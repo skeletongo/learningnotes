{
 "cells": [
  {
   "cell_type": "markdown",
   "metadata": {
    "pycharm": {
     "name": "#%% md\n"
    }
   },
   "source": [
    "### 创建文件"
   ]
  },
  {
   "cell_type": "code",
   "execution_count": 56,
   "metadata": {
    "pycharm": {
     "name": "#%%\n"
    }
   },
   "outputs": [],
   "source": [
    "# w 写\n",
    "f = open(\"./hello\",'w',encoding='utf-8')\n",
    "f.write(\"hello\")\n",
    "f.close()"
   ]
  },
  {
   "cell_type": "markdown",
   "metadata": {
    "pycharm": {
     "name": "#%% md\n"
    }
   },
   "source": [
    "### 读取文件"
   ]
  },
  {
   "cell_type": "code",
   "execution_count": 57,
   "metadata": {
    "pycharm": {
     "name": "#%%\n"
    }
   },
   "outputs": [
    {
     "name": "stdout",
     "output_type": "stream",
     "text": [
      "hello"
     ]
    }
   ],
   "source": [
    "# r 读\n",
    "f = open(\"./hello\",'r',encoding='utf-8')\n",
    "for line in f.readlines():\n",
    "    print(line, end=\"\")\n",
    "f.close()"
   ]
  },
  {
   "cell_type": "markdown",
   "metadata": {
    "pycharm": {
     "name": "#%% md\n"
    }
   },
   "source": [
    "### 写入文件"
   ]
  },
  {
   "cell_type": "code",
   "execution_count": 58,
   "metadata": {
    "pycharm": {
     "name": "#%%\n"
    }
   },
   "outputs": [
    {
     "name": "stdout",
     "output_type": "stream",
     "text": [
      "hellod"
     ]
    }
   ],
   "source": [
    "# a 追加写入\n",
    "f = open(\"./hello\",'a',encoding='utf-8')\n",
    "f.write(\"d\")\n",
    "f.close()\n",
    "\n",
    "f = open(\"./hello\",'r')\n",
    "for line in f.readlines():\n",
    "    print(line, end=\"\")\n",
    "f.close()"
   ]
  },
  {
   "cell_type": "markdown",
   "source": [
    "### 异常捕获"
   ],
   "metadata": {
    "collapsed": false,
    "pycharm": {
     "name": "#%% md\n"
    }
   }
  },
  {
   "cell_type": "code",
   "execution_count": 59,
   "outputs": [
    {
     "name": "stdout",
     "output_type": "stream",
     "text": [
      "error: [Errno 2] No such file or directory: './file'\n",
      "done finally\n"
     ]
    }
   ],
   "source": [
    "def Read():\n",
    "    f = None\n",
    "    try:\n",
    "        f = open('./file', 'r')\n",
    "        print(f.read())\n",
    "    except FileNotFoundError as e:\n",
    "        print(\"error:\",e)\n",
    "    finally:\n",
    "        print(\"done finally\")\n",
    "        if f:\n",
    "            print(\"close file\")\n",
    "            f.close()\n",
    "Read()"
   ],
   "metadata": {
    "collapsed": false,
    "pycharm": {
     "name": "#%%\n"
    }
   }
  },
  {
   "cell_type": "code",
   "execution_count": 60,
   "outputs": [
    {
     "name": "stdout",
     "output_type": "stream",
     "text": [
      "hellod\n"
     ]
    }
   ],
   "source": [
    "with open(\"./hello\",'r') as f: # 自动关闭文件\n",
    "    print(f.read())"
   ],
   "metadata": {
    "collapsed": false,
    "pycharm": {
     "name": "#%%\n"
    }
   }
  },
  {
   "cell_type": "markdown",
   "source": [
    "### StringIO"
   ],
   "metadata": {
    "collapsed": false,
    "pycharm": {
     "name": "#%% md\n"
    }
   }
  },
  {
   "cell_type": "code",
   "execution_count": 62,
   "outputs": [
    {
     "name": "stdout",
     "output_type": "stream",
     "text": [
      "hello world\n"
     ]
    }
   ],
   "source": [
    "from io import StringIO\n",
    "f = StringIO(\"hello world\")\n",
    "s = f.read()\n",
    "print(s)"
   ],
   "metadata": {
    "collapsed": false,
    "pycharm": {
     "name": "#%%\n"
    }
   }
  },
  {
   "cell_type": "code",
   "execution_count": 66,
   "outputs": [
    {
     "name": "stdout",
     "output_type": "stream",
     "text": [
      "hello\n",
      "world\n"
     ]
    }
   ],
   "source": [
    "from io import StringIO\n",
    "f = StringIO()\n",
    "f.write(\"hello\\nworld\")\n",
    "print(f.getvalue())"
   ],
   "metadata": {
    "collapsed": false,
    "pycharm": {
     "name": "#%%\n"
    }
   }
  },
  {
   "cell_type": "markdown",
   "source": [
    "### BytesIO"
   ],
   "metadata": {
    "collapsed": false,
    "pycharm": {
     "name": "#%% md\n"
    }
   }
  },
  {
   "cell_type": "code",
   "execution_count": 68,
   "outputs": [
    {
     "name": "stdout",
     "output_type": "stream",
     "text": [
      "b'\\xe4\\xbd\\xa0\\xe5\\xa5\\xbd'\n"
     ]
    }
   ],
   "source": [
    "from io import BytesIO\n",
    "f = BytesIO(\"你好\".encode(encoding='utf8'))\n",
    "print(f.getvalue())"
   ],
   "metadata": {
    "collapsed": false,
    "pycharm": {
     "name": "#%%\n"
    }
   }
  },
  {
   "cell_type": "code",
   "execution_count": 70,
   "outputs": [
    {
     "name": "stdout",
     "output_type": "stream",
     "text": [
      "你好\n"
     ]
    }
   ],
   "source": [
    "from io import BytesIO\n",
    "f = BytesIO()\n",
    "f.write(b'\\xe4\\xbd\\xa0\\xe5\\xa5\\xbd')\n",
    "print(f.getvalue().decode(encoding='utf8'))"
   ],
   "metadata": {
    "collapsed": false,
    "pycharm": {
     "name": "#%%\n"
    }
   }
  },
  {
   "cell_type": "markdown",
   "source": [
    "### 目录文件操作"
   ],
   "metadata": {
    "collapsed": false,
    "pycharm": {
     "name": "#%% md\n"
    }
   }
  },
  {
   "cell_type": "code",
   "execution_count": 11,
   "outputs": [
    {
     "name": "stdout",
     "output_type": "stream",
     "text": [
      "nt\n",
      "/Users/michael\\testdir\n",
      "('/Users/michael/testdir', 'file.txt')\n",
      "('/path/to/file', '.txt')\n"
     ]
    }
   ],
   "source": [
    "import os\n",
    "\n",
    "# posix，说明系统是Linux、Unix或Mac OS X，如果是nt，就是Windows\n",
    "print(os.name)\n",
    "\n",
    "# 环境变量\n",
    "#print(os.environ)\n",
    "\n",
    "# 获取环境变量\n",
    "os.environ.get('GOROOT')\n",
    "\n",
    "# 查看当前目录的绝对路径\n",
    "#os.path.abspath('.')\n",
    "\n",
    "# 路径拼接\n",
    "print(os.path.join('/Users/michael', 'testdir'))\n",
    "\n",
    "# 创建，删除目录\n",
    "os.mkdir('./testdir')\n",
    "os.rmdir('./testdir')\n",
    "\n",
    "# 文件名分割\n",
    "print(os.path.split('/Users/michael/testdir/file.txt'))\n",
    "\n",
    "# 文件后缀分割\n",
    "print(os.path.splitext('/path/to/file.txt'))\n",
    "\n",
    "#os.rename('test.txt', 'test.py')\n",
    "\n",
    "#os.remove('test.py')\n"
   ],
   "metadata": {
    "collapsed": false,
    "pycharm": {
     "name": "#%%\n"
    }
   }
  },
  {
   "cell_type": "markdown",
   "source": [
    "### 序列化"
   ],
   "metadata": {
    "collapsed": false,
    "pycharm": {
     "name": "#%% md\n"
    }
   }
  },
  {
   "cell_type": "code",
   "execution_count": 80,
   "outputs": [
    {
     "name": "stdout",
     "output_type": "stream",
     "text": [
      "{'name': 'tom', 'age': 18}\n",
      "b'\\x80\\x04\\x95\\x1a\\x00\\x00\\x00\\x00\\x00\\x00\\x00}\\x94(\\x8c\\x04name\\x94\\x8c\\x03tom\\x94\\x8c\\x03age\\x94K\\x12u.'\n",
      "{'name': 'tom', 'age': 18}\n",
      "name:tom age:18\n"
     ]
    }
   ],
   "source": [
    "# 内置序列化\n",
    "import pickle\n",
    "\n",
    "# 字典\n",
    "d = dict(name='tom',age=18)\n",
    "print(d)\n",
    "\n",
    "b = pickle.dumps(d)\n",
    "print(b)\n",
    "\n",
    "a = pickle.loads(b)\n",
    "print(a)\n",
    "\n",
    "# 类\n",
    "class Student(object):\n",
    "    def __init__(self,name,age):\n",
    "        self.name = name\n",
    "        self.age = age\n",
    "    def __str__(self):\n",
    "        return \"name:%s age:%d\" %  (self.name,self.age)\n",
    "\n",
    "s = Student(\"tom\",18)\n",
    "b = pickle.dumps(s)\n",
    "s2 = pickle.loads(b)\n",
    "print(s2)"
   ],
   "metadata": {
    "collapsed": false,
    "pycharm": {
     "name": "#%%\n"
    }
   }
  },
  {
   "cell_type": "code",
   "execution_count": 96,
   "outputs": [
    {
     "name": "stdout",
     "output_type": "stream",
     "text": [
      "{\"name\": \"tom\", \"age\": 18}\n",
      "{'name': 'tom', 'age': 18} <class 'dict'>\n",
      "{\"name\": \"tom\", \"age\": 18}\n",
      "dict2Student: <class 'dict'>\n",
      "name:tom age:18 <class '__main__.Student'>\n"
     ]
    }
   ],
   "source": [
    "import json\n",
    "\n",
    "# 字典\n",
    "d = dict(name='tom',age=18)\n",
    "b = json.dumps(d)\n",
    "print(b)\n",
    "\n",
    "a = json.loads(b)\n",
    "print(a,type(a))\n",
    "\n",
    "# 类\n",
    "class Student(object):\n",
    "    def __init__(self,name,age):\n",
    "        self.name = name\n",
    "        self.age = age\n",
    "    def __str__(self):\n",
    "        return \"name:%s age:%d\" %  (self.name,self.age)\n",
    "\n",
    "s = Student(\"tom\",18)\n",
    "j = json.dumps(s,default=lambda obj:obj.__dict__)\n",
    "print(j)\n",
    "\n",
    "def dict2Student(d):\n",
    "    print(\"dict2Student:\",type(d))\n",
    "    return Student(d[\"name\"],d[\"age\"])\n",
    "\n",
    "s2 = json.loads(j,object_hook=dict2Student)\n",
    "print(s2,type(s2))"
   ],
   "metadata": {
    "collapsed": false,
    "pycharm": {
     "name": "#%%\n"
    }
   }
  }
 ],
 "metadata": {
  "kernelspec": {
   "display_name": "Python 3 (ipykernel)",
   "language": "python",
   "name": "python3"
  },
  "language_info": {
   "codemirror_mode": {
    "name": "ipython",
    "version": 3
   },
   "file_extension": ".py",
   "mimetype": "text/x-python",
   "name": "python",
   "nbconvert_exporter": "python",
   "pygments_lexer": "ipython3",
   "version": "3.10.6"
  },
  "vscode": {
   "interpreter": {
    "hash": "ce14df5d92cfec294d22f79ae27f3955c716086372bfb1465385beefeb06480e"
   }
  }
 },
 "nbformat": 4,
 "nbformat_minor": 2
}