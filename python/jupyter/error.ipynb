{
 "cells": [
  {
   "cell_type": "markdown",
   "metadata": {},
   "source": [
    "## 错误处理"
   ]
  },
  {
   "cell_type": "markdown",
   "metadata": {},
   "source": [
    "### 关键字 try except else finally \n",
    "    错误其实也是class，所有的错误类型都继承自BaseException"
   ]
  },
  {
   "cell_type": "code",
   "execution_count": 9,
   "metadata": {},
   "outputs": [
    {
     "name": "stdout",
     "output_type": "stream",
     "text": [
      "try...\n",
      "result: 5.0\n",
      "no error!\n",
      "finally...\n",
      "END\n",
      "ZeroDivisionError: <class 'ZeroDivisionError'>\n",
      "e: division by zero\n",
      "type(e): <class 'ZeroDivisionError'>\n",
      "dir(e): ['__cause__', '__class__', '__context__', '__delattr__', '__dict__', '__dir__', '__doc__', '__eq__', '__format__', '__ge__', '__getattribute__', '__gt__', '__hash__', '__init__', '__init_subclass__', '__le__', '__lt__', '__ne__', '__new__', '__reduce__', '__reduce_ex__', '__repr__', '__setattr__', '__setstate__', '__sizeof__', '__str__', '__subclasshook__', '__suppress_context__', '__traceback__', 'args', 'with_traceback']\n"
     ]
    }
   ],
   "source": [
    "try: # 需要捕获异常的代码块\n",
    "    print('try...')\n",
    "    r = 10 / int('2')\n",
    "    print('result:', r)\n",
    "# except 异常捕获列表\n",
    "except ValueError as e:\n",
    "    print('ValueError:', e)\n",
    "except ZeroDivisionError as e:\n",
    "    print('ZeroDivisionError:', e)\n",
    "else: # 没有错误会执行\n",
    "    print('no error!')\n",
    "finally: # 一定会执行\n",
    "    print('finally...')\n",
    "print('END')\n",
    "\n",
    "# ZeroDivisionError as e 是什么意思; \n",
    "# ZeroDivisionError为错误类型\n",
    "# e为错误实例对象\n",
    "try:\n",
    "    a = 2 / 0\n",
    "except ZeroDivisionError as e:\n",
    "    print(\"ZeroDivisionError:\",ZeroDivisionError)\n",
    "    print(\"e:\",e)\n",
    "    print(\"type(e):\",type(e))\n",
    "    print(\"dir(e):\",dir(e))"
   ]
  },
  {
   "cell_type": "markdown",
   "metadata": {},
   "source": [
    "### raise 抛出异常"
   ]
  },
  {
   "cell_type": "code",
   "execution_count": 21,
   "metadata": {},
   "outputs": [
    {
     "name": "stdout",
     "output_type": "stream",
     "text": [
      "division by zero\n"
     ]
    }
   ],
   "source": [
    "def Func():\n",
    "    try:\n",
    "        a = 2 / 0\n",
    "    except ZeroDivisionError as e:\n",
    "        raise # 抛出异常，这里不处理这个错误\n",
    "\n",
    "try:\n",
    "    Func()\n",
    "except BaseException as e:\n",
    "    print(e)\n",
    "\n"
   ]
  },
  {
   "cell_type": "markdown",
   "metadata": {},
   "source": [
    "### 自定义错误类型\n",
    "1. 继承BaseException\n",
    "2. 设置错误信息"
   ]
  },
  {
   "cell_type": "code",
   "execution_count": 20,
   "metadata": {},
   "outputs": [
    {
     "name": "stdout",
     "output_type": "stream",
     "text": [
      "this is error: name is not tom\n"
     ]
    },
    {
     "ename": "TomError",
     "evalue": "this is error: name is not tom",
     "output_type": "error",
     "traceback": [
      "\u001b[1;31m---------------------------------------------------------------------------\u001b[0m",
      "\u001b[1;31mTomError\u001b[0m                                  Traceback (most recent call last)",
      "\u001b[1;32md:\\learningnotes\\python\\jupyter\\error.ipynb Cell 7\u001b[0m in \u001b[0;36m<cell line: 19>\u001b[1;34m()\u001b[0m\n\u001b[0;32m     <a href='vscode-notebook-cell:/d%3A/learningnotes/python/jupyter/error.ipynb#X11sZmlsZQ%3D%3D?line=15'>16</a>\u001b[0m \u001b[39mexcept\u001b[39;00m TomError \u001b[39mas\u001b[39;00m e:\n\u001b[0;32m     <a href='vscode-notebook-cell:/d%3A/learningnotes/python/jupyter/error.ipynb#X11sZmlsZQ%3D%3D?line=16'>17</a>\u001b[0m     \u001b[39mprint\u001b[39m(e)\n\u001b[1;32m---> <a href='vscode-notebook-cell:/d%3A/learningnotes/python/jupyter/error.ipynb#X11sZmlsZQ%3D%3D?line=18'>19</a>\u001b[0m a \u001b[39m=\u001b[39m A(\u001b[39m\"\u001b[39;49m\u001b[39mjack\u001b[39;49m\u001b[39m\"\u001b[39;49m)\n",
      "\u001b[1;32md:\\learningnotes\\python\\jupyter\\error.ipynb Cell 7\u001b[0m in \u001b[0;36mA.__init__\u001b[1;34m(self, name)\u001b[0m\n\u001b[0;32m      <a href='vscode-notebook-cell:/d%3A/learningnotes/python/jupyter/error.ipynb#X11sZmlsZQ%3D%3D?line=8'>9</a>\u001b[0m \u001b[39mdef\u001b[39;00m \u001b[39m__init__\u001b[39m(\u001b[39mself\u001b[39m,name):\n\u001b[0;32m     <a href='vscode-notebook-cell:/d%3A/learningnotes/python/jupyter/error.ipynb#X11sZmlsZQ%3D%3D?line=9'>10</a>\u001b[0m     \u001b[39mif\u001b[39;00m name  \u001b[39m!=\u001b[39m \u001b[39m\"\u001b[39m\u001b[39mtom\u001b[39m\u001b[39m\"\u001b[39m:\n\u001b[1;32m---> <a href='vscode-notebook-cell:/d%3A/learningnotes/python/jupyter/error.ipynb#X11sZmlsZQ%3D%3D?line=10'>11</a>\u001b[0m         \u001b[39mraise\u001b[39;00m TomError(\u001b[39m\"\u001b[39m\u001b[39mname is not tom\u001b[39m\u001b[39m\"\u001b[39m)\n\u001b[0;32m     <a href='vscode-notebook-cell:/d%3A/learningnotes/python/jupyter/error.ipynb#X11sZmlsZQ%3D%3D?line=11'>12</a>\u001b[0m     \u001b[39mself\u001b[39m\u001b[39m.\u001b[39mname \u001b[39m=\u001b[39m name\n",
      "\u001b[1;31mTomError\u001b[0m: this is error: name is not tom"
     ]
    }
   ],
   "source": [
    "class TomError(BaseException):\n",
    "    def __init__(self, message):\n",
    "        self.message = message\n",
    "        \n",
    "    def __str__(self) -> str:\n",
    "        return \"this is error: %s\" % self.message\n",
    "\n",
    "class A(object):\n",
    "    def __init__(self,name):\n",
    "        if name  != \"tom\":\n",
    "            raise TomError(\"name is not tom\")\n",
    "        self.name = name\n",
    "\n",
    "try:\n",
    "    A(\"jack\")\n",
    "except TomError as e:\n",
    "    print(e)\n",
    "\n",
    "a = A(\"jack\")\n"
   ]
  },
  {
   "cell_type": "markdown",
   "metadata": {},
   "source": [
    "### 记录错误堆栈信息"
   ]
  },
  {
   "cell_type": "code",
   "execution_count": 22,
   "metadata": {},
   "outputs": [
    {
     "name": "stderr",
     "output_type": "stream",
     "text": [
      "ERROR:root:division by zero\n",
      "Traceback (most recent call last):\n",
      "  File \"C:\\Users\\admin\\AppData\\Local\\Temp\\ipykernel_35144\\2153322235.py\", line 4, in <cell line: 3>\n",
      "    a = 2 / 0\n",
      "ZeroDivisionError: division by zero\n"
     ]
    }
   ],
   "source": [
    "import logging\n",
    "\n",
    "try:\n",
    "    a = 2 / 0\n",
    "except ZeroDivisionError as e:\n",
    "    logging.exception(e)"
   ]
  }
 ],
 "metadata": {
  "kernelspec": {
   "display_name": "Python 3.10.6 64-bit",
   "language": "python",
   "name": "python3"
  },
  "language_info": {
   "codemirror_mode": {
    "name": "ipython",
    "version": 3
   },
   "file_extension": ".py",
   "mimetype": "text/x-python",
   "name": "python",
   "nbconvert_exporter": "python",
   "pygments_lexer": "ipython3",
   "version": "3.10.6"
  },
  "orig_nbformat": 4,
  "vscode": {
   "interpreter": {
    "hash": "d99a3f7b344b3c3107482760db15f42178bfad658d282ab0a919b76809e13cb5"
   }
  }
 },
 "nbformat": 4,
 "nbformat_minor": 2
}
