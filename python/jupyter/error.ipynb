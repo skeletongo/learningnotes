{
 "cells": [
  {
   "cell_type": "markdown",
   "metadata": {
    "pycharm": {
     "name": "#%% md\n"
    }
   },
   "source": [
    "## 错误处理"
   ]
  },
  {
   "cell_type": "markdown",
   "metadata": {
    "pycharm": {
     "name": "#%% md\n"
    }
   },
   "source": [
    "### 关键字 try except else finally \n",
    "    错误其实也是class，所有的错误类型都继承自BaseException"
   ]
  },
  {
   "cell_type": "code",
   "execution_count": 1,
   "metadata": {
    "pycharm": {
     "name": "#%%\n"
    }
   },
   "outputs": [
    {
     "name": "stdout",
     "output_type": "stream",
     "text": [
      "try...\n",
      "result: 5.0\n",
      "no error!\n",
      "finally...\n",
      "END\n",
      "ZeroDivisionError: <class 'ZeroDivisionError'>\n",
      "e: division by zero\n",
      "type(e): <class 'ZeroDivisionError'>\n",
      "dir(e): ['__cause__', '__class__', '__context__', '__delattr__', '__dict__', '__dir__', '__doc__', '__eq__', '__format__', '__ge__', '__getattribute__', '__gt__', '__hash__', '__init__', '__init_subclass__', '__le__', '__lt__', '__ne__', '__new__', '__reduce__', '__reduce_ex__', '__repr__', '__setattr__', '__setstate__', '__sizeof__', '__str__', '__subclasshook__', '__suppress_context__', '__traceback__', 'args', 'with_traceback']\n"
     ]
    }
   ],
   "source": [
    "try: # 需要捕获异常的代码块\n",
    "    print('try...')\n",
    "    r = 10 / int('2')\n",
    "    print('result:', r)\n",
    "# except 异常捕获列表\n",
    "except ValueError as e:\n",
    "    print('ValueError:', e)\n",
    "except ZeroDivisionError as e:\n",
    "    print('ZeroDivisionError:', e)\n",
    "else: # 没有错误会执行\n",
    "    print('no error!')\n",
    "finally: # 一定会执行\n",
    "    print('finally...')\n",
    "print('END')\n",
    "\n",
    "# ZeroDivisionError as e 是什么意思; \n",
    "# ZeroDivisionError为错误类型\n",
    "# e为错误实例对象\n",
    "try:\n",
    "    a = 2 / 0\n",
    "except ZeroDivisionError as e:\n",
    "    print(\"ZeroDivisionError:\",ZeroDivisionError)\n",
    "    print(\"e:\",e)\n",
    "    print(\"type(e):\",type(e))\n",
    "    print(\"dir(e):\",dir(e))"
   ]
  },
  {
   "cell_type": "markdown",
   "metadata": {
    "pycharm": {
     "name": "#%% md\n"
    }
   },
   "source": [
    "### raise 抛出异常"
   ]
  },
  {
   "cell_type": "code",
   "execution_count": 2,
   "metadata": {
    "pycharm": {
     "name": "#%%\n"
    }
   },
   "outputs": [
    {
     "name": "stdout",
     "output_type": "stream",
     "text": [
      "division by zero\n"
     ]
    }
   ],
   "source": [
    "def Func():\n",
    "    try:\n",
    "        a = 2 / 0\n",
    "    except ZeroDivisionError as e:\n",
    "        raise # 抛出异常，这里不处理这个错误\n",
    "\n",
    "try:\n",
    "    Func()\n",
    "except BaseException as e:\n",
    "    print(e)\n",
    "\n"
   ]
  },
  {
   "cell_type": "markdown",
   "metadata": {
    "pycharm": {
     "name": "#%% md\n"
    }
   },
   "source": [
    "### 自定义错误类型\n",
    "1. 继承BaseException\n",
    "2. 设置错误信息"
   ]
  },
  {
   "cell_type": "code",
   "execution_count": 3,
   "metadata": {
    "pycharm": {
     "name": "#%%\n"
    }
   },
   "outputs": [
    {
     "name": "stdout",
     "output_type": "stream",
     "text": [
      "this is error: name is not tom\n"
     ]
    },
    {
     "ename": "TomError",
     "evalue": "this is error: name is not tom",
     "output_type": "error",
     "traceback": [
      "\u001B[1;31m---------------------------------------------------------------------------\u001B[0m",
      "\u001B[1;31mTomError\u001B[0m                                  Traceback (most recent call last)",
      "\u001B[1;32md:\\learningnotes\\python\\jupyter\\error.ipynb Cell 7\u001B[0m in \u001B[0;36m<cell line: 19>\u001B[1;34m()\u001B[0m\n\u001B[0;32m     <a href='vscode-notebook-cell:/d%3A/learningnotes/python/jupyter/error.ipynb#W6sZmlsZQ%3D%3D?line=15'>16</a>\u001B[0m \u001B[39mexcept\u001B[39;00m TomError \u001B[39mas\u001B[39;00m e:\n\u001B[0;32m     <a href='vscode-notebook-cell:/d%3A/learningnotes/python/jupyter/error.ipynb#W6sZmlsZQ%3D%3D?line=16'>17</a>\u001B[0m     \u001B[39mprint\u001B[39m(e)\n\u001B[1;32m---> <a href='vscode-notebook-cell:/d%3A/learningnotes/python/jupyter/error.ipynb#W6sZmlsZQ%3D%3D?line=18'>19</a>\u001B[0m a \u001B[39m=\u001B[39m A(\u001B[39m\"\u001B[39;49m\u001B[39mjack\u001B[39;49m\u001B[39m\"\u001B[39;49m)\n",
      "\u001B[1;32md:\\learningnotes\\python\\jupyter\\error.ipynb Cell 7\u001B[0m in \u001B[0;36mA.__init__\u001B[1;34m(self, name)\u001B[0m\n\u001B[0;32m      <a href='vscode-notebook-cell:/d%3A/learningnotes/python/jupyter/error.ipynb#W6sZmlsZQ%3D%3D?line=8'>9</a>\u001B[0m \u001B[39mdef\u001B[39;00m \u001B[39m__init__\u001B[39m(\u001B[39mself\u001B[39m,name):\n\u001B[0;32m     <a href='vscode-notebook-cell:/d%3A/learningnotes/python/jupyter/error.ipynb#W6sZmlsZQ%3D%3D?line=9'>10</a>\u001B[0m     \u001B[39mif\u001B[39;00m name  \u001B[39m!=\u001B[39m \u001B[39m\"\u001B[39m\u001B[39mtom\u001B[39m\u001B[39m\"\u001B[39m:\n\u001B[1;32m---> <a href='vscode-notebook-cell:/d%3A/learningnotes/python/jupyter/error.ipynb#W6sZmlsZQ%3D%3D?line=10'>11</a>\u001B[0m         \u001B[39mraise\u001B[39;00m TomError(\u001B[39m\"\u001B[39m\u001B[39mname is not tom\u001B[39m\u001B[39m\"\u001B[39m)\n\u001B[0;32m     <a href='vscode-notebook-cell:/d%3A/learningnotes/python/jupyter/error.ipynb#W6sZmlsZQ%3D%3D?line=11'>12</a>\u001B[0m     \u001B[39mself\u001B[39m\u001B[39m.\u001B[39mname \u001B[39m=\u001B[39m name\n",
      "\u001B[1;31mTomError\u001B[0m: this is error: name is not tom"
     ]
    }
   ],
   "source": [
    "class TomError(BaseException):\n",
    "    def __init__(self, message):\n",
    "        self.message = message\n",
    "        \n",
    "    def __str__(self) -> str:\n",
    "        return \"this is error: %s\" % self.message\n",
    "\n",
    "class A(object):\n",
    "    def __init__(self,name):\n",
    "        if name  != \"tom\":\n",
    "            raise TomError(\"name is not tom\")\n",
    "        self.name = name\n",
    "\n",
    "try:\n",
    "    A(\"jack\")\n",
    "except TomError as e:\n",
    "    print(e)\n",
    "\n",
    "a = A(\"jack\")\n"
   ]
  },
  {
   "cell_type": "markdown",
   "metadata": {
    "pycharm": {
     "name": "#%% md\n"
    }
   },
   "source": [
    "### 记录错误堆栈信息"
   ]
  },
  {
   "cell_type": "code",
   "execution_count": null,
   "metadata": {
    "pycharm": {
     "name": "#%%\n"
    }
   },
   "outputs": [
    {
     "name": "stderr",
     "output_type": "stream",
     "text": [
      "ERROR:root:division by zero\n",
      "Traceback (most recent call last):\n",
      "  File \"C:\\Users\\admin\\AppData\\Local\\Temp\\ipykernel_35144\\2153322235.py\", line 4, in <cell line: 3>\n",
      "    a = 2 / 0\n",
      "ZeroDivisionError: division by zero\n"
     ]
    }
   ],
   "source": [
    "import logging\n",
    "\n",
    "try:\n",
    "    a = 2 / 0\n",
    "except ZeroDivisionError as e:\n",
    "    logging.exception(e)"
   ]
  }
 ],
 "metadata": {
  "kernelspec": {
   "display_name": "Python 3.10.6 ('venv': venv)",
   "language": "python",
   "name": "python3"
  },
  "language_info": {
   "codemirror_mode": {
    "name": "ipython",
    "version": 3
   },
   "file_extension": ".py",
   "mimetype": "text/x-python",
   "name": "python",
   "nbconvert_exporter": "python",
   "pygments_lexer": "ipython3",
   "version": "3.10.6"
  },
  "orig_nbformat": 4,
  "vscode": {
   "interpreter": {
    "hash": "ce14df5d92cfec294d22f79ae27f3955c716086372bfb1465385beefeb06480e"
   }
  }
 },
 "nbformat": 4,
 "nbformat_minor": 2
}