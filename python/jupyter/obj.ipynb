{
 "cells": [
  {
   "cell_type": "markdown",
   "metadata": {
    "pycharm": {
     "name": "#%% md\n"
    }
   },
   "source": [
    "## 面向对象编程\n",
    "+ python不能真正的隐藏对象属性，一般以“__”开头的属性为私有属性，规范上不允许直接访问；\n",
    "+ 定义类时，属性分两种\n",
    "    - 实例方法，第一个参数是self\n",
    "    - 实例属性，绑定到self上的属性\n",
    "    - 类型方法，没有 self 参数\n",
    "    - 类型属性，没有绑定到self上的属性；"
   ]
  },
  {
   "cell_type": "code",
   "execution_count": 1,
   "metadata": {
    "pycharm": {
     "name": "#%%\n"
    }
   },
   "outputs": [
    {
     "name": "stdout",
     "output_type": "stream",
     "text": [
      "name:Tom age:18\n",
      "like = study\n",
      "name:Jack age:18\n",
      "red\n",
      "20\n",
      "20\n"
     ]
    }
   ],
   "source": [
    "# Student 类名\n",
    "# object 新定义的类的父类\n",
    "class Student(object):\n",
    "    cname = 'student'\n",
    "\n",
    "    # __init__ 特殊函数，属性绑定函数\n",
    "    def __init__(self, name, age): # self 是固定写法，表示对象本身\n",
    "        self.name = name # 给对象添加属性\n",
    "        self.age = age \n",
    "        self.__like = \"study\" # 以“__”开头为私有属性，创建的对象不能访问或不建议访问\n",
    "\n",
    "    # 类方法\n",
    "    def print_score(self): # 第一个self表示对象本身，函数调用时忽略，解释器会自动处理\n",
    "        print(\"name:%s age:%d\" % (self.name, self.age))\n",
    "\n",
    "    # 类方法；访问私有属性\n",
    "    def get_like(self):\n",
    "        print(\"like = %s\" % self.__like)\n",
    "\n",
    "\n",
    "# 创建对象\n",
    "s = Student(\"Tom\",18)\n",
    "s.print_score()\n",
    "s.get_like()\n",
    "\n",
    "# 修改属性\n",
    "s.name = 'Jack'\n",
    "s.print_score()\n",
    "\n",
    "# 给对象动态添加属性\n",
    "s.color = \"red\"\n",
    "print(s.color)\n",
    "\n",
    "# 给对象动态添加方法\n",
    "from types import MethodType\n",
    "def set_age(self,age):\n",
    "    self.age = age\n",
    "s.set_age = MethodType(set_age, s) # 只有这一个对象有这个方法，再创建一个对象还需要再重新绑定\n",
    "s.set_age(20)\n",
    "print(s.age)\n",
    "\n",
    "# 给类动态添加方法\n",
    "Student.set_age = set_age\n",
    "ss = Student(\"Abc\",18)\n",
    "ss.set_age(20)\n",
    "print(ss.age)\n",
    "\n",
    "# 删除属性\n",
    "del s.age # 删除对象属性\n",
    "del Student.cname # 删除类属性\n",
    "#print(s.age)\n",
    "#print(Student.cname)\n"
   ]
  },
  {
   "cell_type": "code",
   "execution_count": 2,
   "metadata": {
    "pycharm": {
     "name": "#%%\n"
    }
   },
   "outputs": [
    {
     "name": "stdout",
     "output_type": "stream",
     "text": [
      "Tom\n",
      "Jack\n",
      "person\n",
      "hello\n"
     ]
    }
   ],
   "source": [
    "class Person(object):\n",
    "    name = 'person' # 类属性；一般类型属性和实例属性不能同名\n",
    "\n",
    "    def __init__(self,name):\n",
    "        self.name = name\n",
    "\n",
    "    def get_name(self):\n",
    "        print(self.name)\n",
    "    \n",
    "    def hello(): # 类方法\n",
    "        print(\"hello\")\n",
    "\n",
    "p = Person(\"Tom\")\n",
    "p.get_name()\n",
    "p.name = \"Jack\"\n",
    "p.get_name()\n",
    "print(Person.name)\n",
    "Person.hello() \n"
   ]
  },
  {
   "cell_type": "markdown",
   "metadata": {
    "pycharm": {
     "name": "#%% md\n"
    }
   },
   "source": [
    "### 继承"
   ]
  },
  {
   "cell_type": "code",
   "execution_count": 3,
   "metadata": {
    "pycharm": {
     "name": "#%%\n"
    }
   },
   "outputs": [
    {
     "name": "stdout",
     "output_type": "stream",
     "text": [
      "True\n",
      "False\n",
      "True\n",
      "True\n",
      "True\n",
      "False\n"
     ]
    }
   ],
   "source": [
    "# 继承\n",
    "\n",
    "class Animal(object):\n",
    "    def run(self):\n",
    "        print(\"animal run\")\n",
    "\n",
    "class Dog(Animal):\n",
    "    def run(self):\n",
    "        print(\"dog run\")\n",
    "\n",
    "class Cat(object):\n",
    "    def run(self):\n",
    "        print(\"cat run\")\n",
    "\n",
    "# isinstance 第一个参数一般为对象实例，第二个参数为类型或类型元组\n",
    "# 以下写法都不合适\n",
    "print(isinstance(Animal, object))\n",
    "print(isinstance(Dog, Animal))\n",
    "print(isinstance(Cat, (object,Animal)))\n",
    "\n",
    "# isinstance 一般用法\n",
    "a = Animal()\n",
    "dog = Dog()\n",
    "cat = Cat()\n",
    "print(isinstance(a, object))\n",
    "print(isinstance(dog, Animal))\n",
    "print(isinstance(cat, Animal)) # cat 没有声明继承自 Animal，所以为False\n"
   ]
  },
  {
   "cell_type": "markdown",
   "metadata": {
    "pycharm": {
     "name": "#%% md\n"
    }
   },
   "source": [
    "### 多态"
   ]
  },
  {
   "cell_type": "code",
   "execution_count": 4,
   "metadata": {
    "pycharm": {
     "name": "#%%\n"
    }
   },
   "outputs": [
    {
     "name": "stdout",
     "output_type": "stream",
     "text": [
      "animal run\n",
      "dog run\n",
      "cat run\n"
     ]
    }
   ],
   "source": [
    "# 多态\n",
    "\n",
    "class Animal(object):\n",
    "    def run(self):\n",
    "        print(\"animal run\")\n",
    "\n",
    "class Dog(Animal):\n",
    "    def run(self):\n",
    "        print(\"dog run\")\n",
    "\n",
    "class Cat(object):\n",
    "    def run(self):\n",
    "        print(\"cat run\")\n",
    "\n",
    "def runner(a):\n",
    "    a.run()\n",
    "\n",
    "a = Animal()\n",
    "dog = Dog()\n",
    "cat = Cat()\n",
    "\n",
    "runner(a)\n",
    "runner(dog)\n",
    "runner(cat) # 注意，cat并没有声明是Animal的子类"
   ]
  },
  {
   "cell_type": "markdown",
   "metadata": {
    "pycharm": {
     "name": "#%% md\n"
    }
   },
   "source": [
    "### 其它"
   ]
  },
  {
   "cell_type": "code",
   "execution_count": 5,
   "metadata": {
    "pycharm": {
     "name": "#%%\n"
    }
   },
   "outputs": [
    {
     "name": "stdout",
     "output_type": "stream",
     "text": [
      "True\n",
      "True\n",
      "True\n",
      "['__class__', '__delattr__', '__dict__', '__dir__', '__doc__', '__eq__', '__format__', '__ge__', '__getattribute__', '__gt__', '__hash__', '__init__', '__init_subclass__', '__le__', '__lt__', '__module__', '__ne__', '__new__', '__reduce__', '__reduce_ex__', '__repr__', '__setattr__', '__sizeof__', '__str__', '__subclasshook__', '__weakref__', 'cname', 'get_name', 'hello']\n",
      "['__class__', '__delattr__', '__dict__', '__dir__', '__doc__', '__eq__', '__format__', '__ge__', '__getattribute__', '__gt__', '__hash__', '__init__', '__init_subclass__', '__le__', '__lt__', '__module__', '__ne__', '__new__', '__reduce__', '__reduce_ex__', '__repr__', '__setattr__', '__sizeof__', '__str__', '__subclasshook__', '__weakref__', 'cname', 'get_name', 'hello', 'name']\n",
      "hasattr name True\n",
      "hasattr hello True\n",
      "['__class__', '__delattr__', '__dict__', '__dir__', '__doc__', '__eq__', '__format__', '__ge__', '__getattribute__', '__gt__', '__hash__', '__init__', '__init_subclass__', '__le__', '__lt__', '__module__', '__ne__', '__new__', '__reduce__', '__reduce_ex__', '__repr__', '__setattr__', '__sizeof__', '__str__', '__subclasshook__', '__weakref__', 'cname', 'get_name', 'hello']\n",
      "18\n",
      "person\n"
     ]
    }
   ],
   "source": [
    "class Person(object):\n",
    "    cname = 'person' # 类属性\n",
    "\n",
    "    def __init__(self,name):\n",
    "        self.name = name\n",
    "\n",
    "    def get_name(self):\n",
    "        print(self.name)\n",
    "    \n",
    "    def hello(): # 类方法\n",
    "        print(\"hello\")\n",
    "\n",
    "# type 类型判断\n",
    "p = Person(\"tom\")\n",
    "print(type(p)==Person)\n",
    "print(type(\"a\")==str)\n",
    "print(type(1)==int)\n",
    "\n",
    "# dir 获取对象所有属性\n",
    "print(dir(Person))\n",
    "print(dir(p))\n",
    "\n",
    "# hasattr 有没有属性\n",
    "print(\"hasattr name %s\" % hasattr(p,'name')) # 对象属性\n",
    "print(\"hasattr hello %s\" % hasattr(p,'hello')) # 类方法\n",
    "\n",
    "# setattr 设置属性\n",
    "setattr(p,'age',18) \n",
    "print(dir(Person)) # 说明添加在了对象属性上\n",
    "\n",
    "# getattr 获取属性值\n",
    "print(getattr(p,'age')) # 获取实例属性\n",
    "print(getattr(p,'cname')) # 获取类型属性"
   ]
  },
  {
   "cell_type": "markdown",
   "metadata": {
    "pycharm": {
     "name": "#%% md\n"
    }
   },
   "source": [
    "## 面向对象高级特性"
   ]
  },
  {
   "cell_type": "markdown",
   "metadata": {
    "pycharm": {
     "name": "#%% md\n"
    }
   },
   "source": [
    "### 限制实例属性"
   ]
  },
  {
   "cell_type": "code",
   "execution_count": 6,
   "metadata": {
    "pycharm": {
     "name": "#%%\n"
    }
   },
   "outputs": [
    {
     "name": "stdout",
     "output_type": "stream",
     "text": [
      "Tom\n"
     ]
    },
    {
     "data": {
      "text/plain": "20"
     },
     "execution_count": 6,
     "metadata": {},
     "output_type": "execute_result"
    }
   ],
   "source": [
    "# 限制实例的属性 __slots__\n",
    "# 仅对当前类实例起作用，对继承的子类是不起作用\n",
    "class S(object):\n",
    "    __slots__ = (\"name\")\n",
    "    def __init__(self,name):\n",
    "        self.name  = name\n",
    "\n",
    "s = S(\"Tom\")\n",
    "print(s.name)\n",
    "\n",
    "# 报错\n",
    "#s.age = 20\n",
    "\n",
    "# 添加类属性没有问题\n",
    "S.age = 20\n",
    "s.age\n"
   ]
  },
  {
   "cell_type": "markdown",
   "metadata": {
    "pycharm": {
     "name": "#%% md\n"
    }
   },
   "source": [
    "### 用装饰器添加getter,setter方法"
   ]
  },
  {
   "cell_type": "code",
   "execution_count": 7,
   "metadata": {
    "pycharm": {
     "name": "#%%\n"
    }
   },
   "outputs": [
    {
     "name": "stdout",
     "output_type": "stream",
     "text": [
      "tom\n",
      "18\n",
      "20\n"
     ]
    }
   ],
   "source": [
    "# 利用装饰器实现属性的get,set方法\n",
    "class S(object):\n",
    "    def __init__(self,name):\n",
    "        self.name  = name\n",
    "        self._age = 18\n",
    "    \n",
    "    @property # 访问方法; 方法名和属性不能同名\n",
    "    def age(self):\n",
    "        return self._age\n",
    "\n",
    "    @age.setter # 修改方法\n",
    "    def age(self, value):\n",
    "        if not isinstance(value,int):\n",
    "            raise ValueError('score must be an integer!')\n",
    "        if value < 0 or value > 100:\n",
    "            raise ValueError('score must between 0 ~ 100!')\n",
    "        self._age = value\n",
    "\n",
    "s = S(\"tom\")\n",
    "print(s.name)\n",
    "print(s.age)\n",
    "s.age = 20\n",
    "print(s.age)\n",
    "#s.age = \"18\" # 报错"
   ]
  },
  {
   "cell_type": "markdown",
   "metadata": {
    "pycharm": {
     "name": "#%% md\n"
    }
   },
   "source": [
    "### 继承关系\n",
    "    定义：例如有三个类A,B,C, B继承A, C继承B, 则C的继承关系列表写作CBA, C的下一个类为B,B的下一个为A类,A类的前一个类为B类\n",
    "    "
   ]
  },
  {
   "cell_type": "code",
   "execution_count": 8,
   "metadata": {
    "pycharm": {
     "name": "#%%\n"
    }
   },
   "outputs": [
    {
     "name": "stdout",
     "output_type": "stream",
     "text": [
      "A.name= CCC\n",
      "C.name= CCC\n",
      "C.get_name\n",
      "CCC\n"
     ]
    }
   ],
   "source": [
    "# 多继承\n",
    "class A(object):\n",
    "    def __init__(self, name):\n",
    "        self.name = name\n",
    "        print(\"A.name=\", name)\n",
    "\n",
    "    def get_name(self):\n",
    "        print(\"A.get_name\")\n",
    "        return self.name\n",
    "\n",
    "\n",
    "class B(object):\n",
    "    def __init__(self, name):\n",
    "        self.name = name\n",
    "        print(\"B.name=\", name)\n",
    "\n",
    "    def get_name(self):\n",
    "        print(\"B.get_name\")\n",
    "        return self.name\n",
    "\n",
    "\n",
    "class C(A, B):\n",
    "    def __init__(self, name):\n",
    "        super().__init__(name)\n",
    "        self.name = name\n",
    "        print(\"C.name=\", name)\n",
    "\n",
    "    def get_name(self):\n",
    "        print(\"C.get_name\")\n",
    "        return self.name\n",
    "\n",
    "\n",
    "c = C(\"CCC\")\n",
    "print(c.get_name())\n"
   ]
  },
  {
   "cell_type": "code",
   "execution_count": 9,
   "metadata": {
    "pycharm": {
     "name": "#%%\n"
    }
   },
   "outputs": [
    {
     "name": "stdout",
     "output_type": "stream",
     "text": [
      "[<class '__main__.D'>, <class '__main__.B'>, <class '__main__.C'>, <class '__main__.A'>, <class 'object'>]\n",
      "[<class '__main__.E'>, <class '__main__.D'>, <class '__main__.B'>, <class '__main__.C'>, <class '__main__.A'>, <class 'object'>]\n",
      "(<class '__main__.G'>, <class '__main__.E'>, <class '__main__.B'>, <class '__main__.F'>, <class '__main__.C'>, <class '__main__.A'>, <class 'object'>)\n",
      "[<class '__main__.I'>, <class '__main__.B'>, <class '__main__.C'>, <class '__main__.H'>, <class '__main__.A'>, <class 'object'>]\n"
     ]
    }
   ],
   "source": [
    "# 继承关系\n",
    "class A(object):\n",
    "    pass\n",
    "\n",
    "class B(A):\n",
    "    pass \n",
    "\n",
    "class C(A):\n",
    "    pass\n",
    "\n",
    "class D(B,C):\n",
    "    pass\n",
    "\n",
    "print(D.mro()) # 继承关系：反向广度优先遍历 DBCA\n",
    "\n",
    "# class E(C,D): # 报错，类总是出现在其祖先之前; C(CA) D(DBCA)\n",
    "#     pass\n",
    "class E(D,C): # 继承关系：反向广度优先遍历 EDBCA\n",
    "    pass\n",
    "\n",
    "print(E.mro())\n",
    "\n",
    "class E(B):\n",
    "    pass\n",
    "\n",
    "class F(C):\n",
    "    pass\n",
    "\n",
    "class G(E,F):\n",
    "    pass\n",
    "\n",
    "print(G.__mro__) # 继承关系：反向广度优先遍历 GEBFCA\n",
    "\n",
    "class H(A):\n",
    "    pass\n",
    "\n",
    "class I(B,C,H):\n",
    "    pass\n",
    "\n",
    "print(I.mro())  # 继承关系：反向广度优先遍历 IBCHA\n"
   ]
  },
  {
   "cell_type": "markdown",
   "metadata": {
    "pycharm": {
     "name": "#%% md\n"
    }
   },
   "source": [
    "### super类"
   ]
  },
  {
   "cell_type": "markdown",
   "metadata": {
    "pycharm": {
     "name": "#%% md\n"
    }
   },
   "source": [
    "#### super() 不带参数"
   ]
  },
  {
   "cell_type": "code",
   "execution_count": 10,
   "metadata": {
    "pycharm": {
     "name": "#%%\n"
    }
   },
   "outputs": [
    {
     "name": "stdout",
     "output_type": "stream",
     "text": [
      "class B tom\n",
      "class A tom\n"
     ]
    }
   ],
   "source": [
    "class A(object):\n",
    "    def __init__(self,name):\n",
    "        print(\"class A %s\" % name)\n",
    "        self.name = name\n",
    "\n",
    "class B(A):\n",
    "    def __init__(self, name):\n",
    "        print(\"class B %s\" % name)\n",
    "        super().__init__(name) # 等价于 super(B,self).__init__(name)\n",
    "\n",
    "b = B(\"tom\")"
   ]
  },
  {
   "cell_type": "markdown",
   "metadata": {
    "pycharm": {
     "name": "#%% md\n"
    }
   },
   "source": [
    "#### super(类名,实例对象) 带两个参数\n",
    "    获取某个实例对象的继承关系列表中某个类的下一个类的实例对象"
   ]
  },
  {
   "cell_type": "code",
   "execution_count": 11,
   "metadata": {
    "pycharm": {
     "name": "#%%\n"
    }
   },
   "outputs": [
    {
     "name": "stdout",
     "output_type": "stream",
     "text": [
      "test A\n",
      "test B\n",
      "test C\n",
      "test A\n",
      "test D\n"
     ]
    }
   ],
   "source": [
    "class A(object):\n",
    "    def test(self):\n",
    "        print(\"test A\")\n",
    "\n",
    "class B(object):\n",
    "    def test(self):\n",
    "        super().test() # 等价于 super(B,self).test()\n",
    "        print(\"test B\")\n",
    "\n",
    "class C(B,A):\n",
    "    def test(self):\n",
    "        super().test()\n",
    "        print(\"test C\")\n",
    "\n",
    "c = C()\n",
    "c.test()\n",
    "\n",
    "# 输出结果\n",
    "# test A\n",
    "# test B\n",
    "# test C\n",
    "# 原因是B类中test方法中的super是获取的c对象的继承关系列表中B类的下一个类的方法，也就是A类的test方法\n",
    "\n",
    "class D(B,A):\n",
    "    def test(self):\n",
    "        super(B,self).test()\n",
    "        print(\"test D\")\n",
    "\n",
    "d = D()\n",
    "d.test()\n",
    "# 输出结果\n",
    "# test A\n",
    "# test D\n",
    "# 因为super是找的B的下一个类，也就是A类，所以调用A类对象的test方法"
   ]
  },
  {
   "cell_type": "markdown",
   "metadata": {
    "pycharm": {
     "name": "#%% md\n"
    }
   },
   "source": [
    "### 枚举"
   ]
  },
  {
   "cell_type": "code",
   "execution_count": 12,
   "metadata": {
    "pycharm": {
     "name": "#%%\n"
    }
   },
   "outputs": [
    {
     "name": "stdout",
     "output_type": "stream",
     "text": [
      "Jan => Month.Jan , 1\n",
      "Feb => Month.Feb , 2\n",
      "Mar => Month.Mar , 3\n",
      "Apr => Month.Apr , 4\n",
      "May => Month.May , 5\n",
      "Jun => Month.Jun , 6\n",
      "Jul => Month.Jul , 7\n",
      "Aug => Month.Aug , 8\n",
      "Sep => Month.Sep , 9\n",
      "Oct => Month.Oct , 10\n",
      "Nov => Month.Nov , 11\n",
      "Dec => Month.Dec , 12\n"
     ]
    }
   ],
   "source": [
    "from enum import Enum\n",
    "\n",
    "Month = Enum('Month', ('Jan', 'Feb', 'Mar', 'Apr', 'May', 'Jun', 'Jul', 'Aug', 'Sep', 'Oct', 'Nov', 'Dec'))\n",
    "\n",
    "for name, member in Month.__members__.items():\n",
    "    print(name, '=>', member, ',', member.value)"
   ]
  },
  {
   "cell_type": "markdown",
   "metadata": {
    "pycharm": {
     "name": "#%% md\n"
    }
   },
   "source": [
    "### 定制类"
   ]
  },
  {
   "cell_type": "code",
   "execution_count": 13,
   "metadata": {
    "pycharm": {
     "name": "#%%\n"
    }
   },
   "outputs": [
    {
     "name": "stdout",
     "output_type": "stream",
     "text": [
      "Person(name: ['tom', 'jack'])\n",
      "tom\n",
      "jack\n",
      "arr: tom\n",
      "start:0 stop:2 step:1\n",
      "arr: ['tom', 'jack']\n",
      "is __getattr__ age\n",
      "18\n",
      "is __getattr__ set_age\n",
      "20\n",
      "is __getattr__ get_age\n",
      "20\n",
      "is __call__  hehe\n",
      "True\n"
     ]
    }
   ],
   "source": [
    "# 定制类；简单说就是重写类的方法，只是这些方法的功能比较特殊\n",
    "\n",
    "class Persons(object):\n",
    "    def __init__(self):\n",
    "        self.names = ['tom','jack']\n",
    "        self.index = 0\n",
    "\n",
    "    def __str__(self) -> str:\n",
    "        return \"Person(name: {})\".format(self.names)\n",
    "    __repr__ = __str__\n",
    "\n",
    "    def __iter__(self): # 返回迭代对象\n",
    "        return self\n",
    "\n",
    "    def __next__(self): # 返回下一个遍历的元素\n",
    "        if self.index >= len(self.names):\n",
    "            raise StopIteration() # 遍历结束\n",
    "        \n",
    "        ret = self.names[self.index]\n",
    "        self.index += 1\n",
    "        return ret\n",
    "\n",
    "    def __getitem__(self,args):\n",
    "        if isinstance(args,int):\n",
    "            return self.names[args]\n",
    "        \n",
    "        if isinstance(args,slice):\n",
    "            print(\"start:%s stop:%s step:%s\" % (args.start, args.stop, args.step))\n",
    "            start = args.start\n",
    "            if start is None:\n",
    "                start = 0\n",
    "            stop = args.stop\n",
    "            if stop is None or stop > len(self.names):\n",
    "                stop = len(self.names)\n",
    "            return self.names[start:stop]\n",
    "\n",
    "    def __getattr__(self, attr):\n",
    "        if attr == 'age':\n",
    "            print(\"is __getattr__ age\")\n",
    "            return 18\n",
    "        \n",
    "        if attr == 'set_age':\n",
    "            print(\"is __getattr__ set_age\")\n",
    "            def set_age(age): # 注意这里不用写self参数了\n",
    "                self.age = age\n",
    "            return set_age\n",
    "\n",
    "        if attr == 'get_age':\n",
    "            print(\"is __getattr__ get_age\")\n",
    "            def get_age():\n",
    "                return self.age\n",
    "            return get_age\n",
    "\n",
    "    def __call__(self, s):\n",
    "        print(\"is __call__ \",s)\n",
    "        \n",
    "\n",
    "p = Persons()\n",
    "# __str__(self)\n",
    "# 打印时(使用print)的字符串，类似于go中的func String() string 方法\n",
    "print(p)\n",
    "\n",
    "# __repr__(self)\n",
    "# 直接显示的字符串，和__str__相等就可以\n",
    "p # 不是最后一行代码的话不会打印\n",
    "\n",
    "# __iter__(self) 获取迭代对象, __next__(self) 返回下一个遍历的元素\n",
    "# 使实例可以用for遍历\n",
    "for v in p:\n",
    "    print(v)\n",
    "\n",
    "# __getitem__(self)\n",
    "# 像切片一样操作对象，要完全符合切片的语法其实实现起来有点复杂\n",
    "print(\"arr:\",p[0])\n",
    "print(\"arr:\",p[0:2:1])\n",
    "\n",
    "# __getattr__(self)\n",
    "# 调用实例属性时如果没有，就会从这个方法中查找\n",
    "print(p.age)\n",
    "p.set_age(20)\n",
    "print(p.age)\n",
    "print(p.get_age())\n",
    "\n",
    "# __call__(self)\n",
    "# 将对象当方法用\n",
    "p(\"hehe\")\n",
    "\n",
    "# callable()\n",
    "# 判断对象是否有__call__(self)方法\n",
    "print(callable(p))\n"
   ]
  },
  {
   "cell_type": "code",
   "execution_count": 14,
   "metadata": {
    "pycharm": {
     "name": "#%%\n"
    }
   },
   "outputs": [
    {
     "name": "stdout",
     "output_type": "stream",
     "text": [
      "/get/user/name\n"
     ]
    }
   ],
   "source": [
    "# 示例 __getattr__(self)\n",
    "class Chain(object):\n",
    "    def __init__(self):\n",
    "        self.path = ''\n",
    "    def __getattr__(self,s):\n",
    "        self.path = \"%s/%s\" % (self.path,s)\n",
    "        return self\n",
    "    def __str__(self) -> str:\n",
    "        return self.path\n",
    "    __repr__ = __str__\n",
    "\n",
    "c = Chain()\n",
    "c.get.user.name\n",
    "print(c)"
   ]
  },
  {
   "cell_type": "markdown",
   "metadata": {
    "pycharm": {
     "name": "#%% md\n"
    }
   },
   "source": [
    "### 动态创建类"
   ]
  },
  {
   "cell_type": "code",
   "execution_count": 15,
   "metadata": {
    "pycharm": {
     "name": "#%%\n"
    }
   },
   "outputs": [
    {
     "name": "stdout",
     "output_type": "stream",
     "text": [
      "Hello, world.\n",
      "Hello, tom.\n",
      "hehe\n",
      "hehe\n",
      "a\n"
     ]
    }
   ],
   "source": [
    "def fn(self, name='world'):\n",
    "     print('Hello, %s.' % name)\n",
    "def gg(self,s):\n",
    "        print(s)\n",
    "\n",
    "# 第一个参数 类名\n",
    "# 第二个参数 继承类\n",
    "# 第三个参数 属性\n",
    "Hello = type('Hello', (object,), dict(hello=fn,name='hehe',__getattr__=gg)) # 创建Hello class\n",
    "\n",
    "h = Hello()\n",
    "h.hello()\n",
    "h.hello('tom')\n",
    "print(h.name)\n",
    "print(Hello.name)\n",
    "h.a"
   ]
  },
  {
   "cell_type": "markdown",
   "metadata": {
    "pycharm": {
     "name": "#%% md\n"
    }
   },
   "source": [
    "### 元类\n",
    "    功能过强，有利有弊吧，可以任意修改类的定义"
   ]
  },
  {
   "cell_type": "code",
   "execution_count": 16,
   "metadata": {
    "pycharm": {
     "name": "#%%\n"
    }
   },
   "outputs": [
    {
     "name": "stdout",
     "output_type": "stream",
     "text": [
      "metaclass类对象: <class '__main__.ListMetaclass'>\n",
      "原类名: MyList\n",
      "原继承类: <class 'list'>\n",
      "原类属性: <function MyList.say at 0x0000013024080EE0>\n",
      "---\n",
      "[1, 2]\n",
      "hehe\n"
     ]
    }
   ],
   "source": [
    "# metaclass是类的模板，所以必须从`type`类型派生：\n",
    "class ListMetaclass(type):\n",
    "    def __new__(self, name, bases, attrs):\n",
    "        print(\"metaclass类对象: %s\" % self)\n",
    "        print(\"原类名: %s\" % name)\n",
    "        print(\"原继承类: %s\" % bases)\n",
    "        print(\"原类属性: %s\" % attrs['say'])\n",
    "        # 对类属性进行修改\n",
    "        attrs['add'] = lambda self, value: self.append(value)\n",
    "        attrs['name'] = 'hehe'\n",
    "        return type.__new__(self, name, bases, attrs)\n",
    "\n",
    "class MyList(list, metaclass=ListMetaclass):\n",
    "    def say(self):\n",
    "        pass\n",
    "\n",
    "l = MyList()\n",
    "print(\"---\")\n",
    "l.add(1)\n",
    "l.add(2)\n",
    "print(l)\n",
    "print(l.name)"
   ]
  },
  {
   "cell_type": "code",
   "execution_count": 17,
   "metadata": {
    "pycharm": {
     "name": "#%%\n"
    }
   },
   "outputs": [
    {
     "name": "stdout",
     "output_type": "stream",
     "text": [
      "Found mapping: id ==> <IntField:id>\n",
      "Found mapping: name ==> <StringField:username>\n",
      "insert into User (id,username) values(?,?)\n",
      "args: [123, None]\n",
      "save\n",
      "insert into User (id,username) values(?,?)\n",
      "args: [456, 'tom']\n",
      "save\n",
      "insert into User (id,username) values(?,?)\n",
      "args: [789, 'tom']\n",
      "save\n"
     ]
    }
   ],
   "source": [
    "# 示例：简单实现一个orm框架\n",
    "\n",
    "# 1.表字段类型类\n",
    "class Field(object):\n",
    "    def __init__(self, name, column_type):\n",
    "        self.name = name # 表字段名称\n",
    "        self.column_type = column_type # 表字段的类型\n",
    "\n",
    "    def __str__(self):\n",
    "        return '<%s:%s>' % (self.__class__.__name__, self.name)\n",
    "    __repr__ = __str__\n",
    "\n",
    "class StringField(Field): # 字符串类型字段\n",
    "    def __init__(self, name):\n",
    "        super(StringField, self).__init__(name, 'varchar(100)')\n",
    "        # 等级于 super().__init__(name, 'varchar(100)')\n",
    "\n",
    "class IntField(Field): # 数字类型字段\n",
    "    def __init__(self,name):\n",
    "        super().__init__(name,'bigint')\n",
    "\n",
    "#n = StringField(\"hehe\")\n",
    "#print(n) \n",
    "# <StringField:hehe>\n",
    "#print(n.name,n.column_type) \n",
    "# hehe varchar(100)\n",
    "\n",
    "# 2.元类获取字段定义及表名称\n",
    "class ModelMetaclass(type):\n",
    "    def __new__(self, name, bases, attrs):\n",
    "        if name == \"Model\":\n",
    "            return type.__new__(self, name, bases, attrs)\n",
    "        \n",
    "        # 获取字段列表放到字典中\n",
    "        m = dict()\n",
    "        for k,v in attrs.items():\n",
    "            if isinstance(v, Field):\n",
    "                print('Found mapping: %s ==> %s' % (k, v))\n",
    "                m[k] = v\n",
    "\n",
    "        # 将原来的类属性删除；因为这些属性值要从Field对象替换成要写入到数据库的字段值\n",
    "        for k in m.keys():\n",
    "            attrs.pop(k)\n",
    "\n",
    "        attrs['__table__'] = name # 表名称\n",
    "        attrs['__mapping__'] = m # 字段定义（名称：字段对象）\n",
    "        return type.__new__(self, name, bases, attrs)\n",
    "\n",
    "# 3.继承dict存储及获取表字段值\n",
    "class Model(dict, metaclass=ModelMetaclass):\n",
    "    def __init__(self,**kv):\n",
    "        super().__init__(**kv)\n",
    "\n",
    "    def __getattr__(self, key):\n",
    "        try:\n",
    "            return self[key]\n",
    "        except KeyError:\n",
    "            raise AttributeError(r\"'Model' object has no attribute '%s'\" % key)\n",
    "\n",
    "    def save(self):\n",
    "        fields = [] \n",
    "        values = []\n",
    "        args = []\n",
    "        for k,v in self.__mapping__.items():\n",
    "            fields.append(v.name)\n",
    "            values.append(\"?\")\n",
    "            args.append(getattr(self, k, None)) # getattr 获取属性，如果没有从__getattr__方法中获取,获取不到返回None\n",
    "\n",
    "        print(\"insert into %s (%s) values(%s)\" % (self.__table__,','.join(fields),','.join(values)))\n",
    "        print(\"args: %s\" % args)\n",
    "        print(\"save\")\n",
    "\n",
    "# 4.定义表结构\n",
    "class User(Model):\n",
    "    id = IntField(\"id\")\n",
    "    name = StringField(\"username\") # username 为数据库字段名\n",
    "\n",
    "# 使用\n",
    "u =  User(id=123)\n",
    "u.save()\n",
    "\n",
    "u1 = User(id=456, name=\"tom\")\n",
    "u1.save()\n",
    "\n",
    "u2 = User()\n",
    "u2.id  = 789 \n",
    "u2.name = 'tom'\n",
    "u2.save()\n",
    "\n",
    "\n"
   ]
  }
 ],
 "metadata": {
  "kernelspec": {
   "display_name": "Python 3.10.6 ('venv': venv)",
   "language": "python",
   "name": "python3"
  },
  "language_info": {
   "codemirror_mode": {
    "name": "ipython",
    "version": 3
   },
   "file_extension": ".py",
   "mimetype": "text/x-python",
   "name": "python",
   "nbconvert_exporter": "python",
   "pygments_lexer": "ipython3",
   "version": "3.10.6"
  },
  "orig_nbformat": 4,
  "vscode": {
   "interpreter": {
    "hash": "ce14df5d92cfec294d22f79ae27f3955c716086372bfb1465385beefeb06480e"
   }
  }
 },
 "nbformat": 4,
 "nbformat_minor": 2
}