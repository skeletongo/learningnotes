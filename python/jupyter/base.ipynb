{
 "cells": [
  {
   "cell_type": "markdown",
   "metadata": {},
   "source": [
    "## 指定python文件执行程序\n",
    "```\n",
    "#!/usr/bin/env python3\n",
    "```\n",
    "## 指定utf-8编码\n",
    "```\n",
    "# -*- coding: utf-8 -*-\n",
    "```"
   ]
  },
  {
   "cell_type": "code",
   "execution_count": 1,
   "metadata": {},
   "outputs": [
    {
     "name": "stdout",
     "output_type": "stream",
     "text": [
      "hello world\n",
      "你好\n"
     ]
    }
   ],
   "source": [
    "# 打印字符串\n",
    "print(\"hello world\")\n",
    "print(\"你好\")"
   ]
  },
  {
   "cell_type": "code",
   "execution_count": 2,
   "metadata": {},
   "outputs": [
    {
     "name": "stdout",
     "output_type": "stream",
     "text": [
      "line1\n",
      "lint2\n",
      "line3\n",
      "line4\n"
     ]
    }
   ],
   "source": [
    "# 换行两种方式\n",
    "print('''line1\n",
    "lint2''')\n",
    "print(\"line3\\nline4\")"
   ]
  },
  {
   "cell_type": "code",
   "execution_count": 3,
   "metadata": {},
   "outputs": [
    {
     "name": "stdout",
     "output_type": "stream",
     "text": [
      "name:  \n",
      "\n"
     ]
    }
   ],
   "source": [
    "# 读取控制台输入\n",
    "name=input(\"Please input your name\\n\")  \n",
    "print(\"name:\",name,\"\\n\")"
   ]
  },
  {
   "cell_type": "code",
   "execution_count": 4,
   "metadata": {},
   "outputs": [
    {
     "name": "stdout",
     "output_type": "stream",
     "text": [
      "True\n",
      "False\n",
      "True\n",
      "True\n"
     ]
    }
   ],
   "source": [
    "print(True)\n",
    "print(False)\n",
    "print(1>0 and 2>1)\n",
    "print(1>2 or 3<4)"
   ]
  },
  {
   "cell_type": "code",
   "execution_count": 5,
   "metadata": {},
   "outputs": [
    {
     "name": "stdout",
     "output_type": "stream",
     "text": [
      "123\n",
      "456.789\n",
      "Hello, world\n",
      "Hello, 'Adam'\n",
      "Hello, \"Bart\"\n"
     ]
    }
   ],
   "source": [
    "# 打印不同数据类型\n",
    "n = 123\n",
    "f = 456.789\n",
    "s1 = 'Hello, world'\n",
    "s2 = 'Hello, \\'Adam\\''\n",
    "s3 = r'Hello, \"Bart\"'\n",
    "\n",
    "print(n)\n",
    "print(f)\n",
    "print(s1)\n",
    "print(s2)\n",
    "print(s3)"
   ]
  },
  {
   "cell_type": "code",
   "execution_count": 6,
   "metadata": {},
   "outputs": [
    {
     "name": "stdout",
     "output_type": "stream",
     "text": [
      "hello tom 18.5 20\n",
      "hello tom 18.6 20\n"
     ]
    }
   ],
   "source": [
    "# 格式化打印\n",
    "print('hello %s %.1f %d' % (\"tom\", 18.54, 20))\n",
    "print('hello {0} {1:.1f} {2}'.format('tom', 18.56, 20)) # 四舍五入"
   ]
  },
  {
   "cell_type": "code",
   "execution_count": 7,
   "metadata": {},
   "outputs": [
    {
     "name": "stdout",
     "output_type": "stream",
     "text": [
      "0.6\n",
      "3\n",
      "1.2\n",
      "1\n"
     ]
    }
   ],
   "source": [
    "# 数学运算\n",
    "print(1.2/2)\n",
    "print(10//3)\n",
    "print(1.2%2)\n",
    "print(10%3)"
   ]
  },
  {
   "cell_type": "code",
   "execution_count": 8,
   "metadata": {},
   "outputs": [
    {
     "name": "stdout",
     "output_type": "stream",
     "text": [
      "A\n",
      "65\n",
      "中文\n",
      "b'ABC' 3\n",
      "ABC 3\n",
      "b'\\xe4\\xb8\\xad\\xe6\\x96\\x87'\n",
      "中文\n"
     ]
    }
   ],
   "source": [
    "# 编码转换\n",
    "print(chr(65)) # A\n",
    "print(ord('A')) # 65\n",
    "print(\"\\u4e2d\\u6587\") # 中文\n",
    "x = b'ABC' # 字节数组\n",
    "print(x, len(x))\n",
    "print('ABC',len('ABC')) # 字符串\n",
    "print('中文'.encode('utf8')) # b'\\xe4\\xb8\\xad\\xe6\\x96\\x87'\n",
    "print(b'\\xe4\\xb8\\xad\\xe6\\x96\\x87'.decode('utf8')) # 中文"
   ]
  },
  {
   "cell_type": "code",
   "execution_count": 9,
   "metadata": {},
   "outputs": [
    {
     "name": "stdout",
     "output_type": "stream",
     "text": [
      "['a', 1]\n",
      "['a', 1, '2']\n",
      "['a', '2']\n",
      "['a', 1, '2']\n",
      "['a', 1]\n",
      "1\n",
      "a\n",
      "[0, 1]\n"
     ]
    }
   ],
   "source": [
    "# 列表 list\n",
    "l = [\"a\",1]\n",
    "print(l)\n",
    "l.append('2') # 末尾追加\n",
    "print(l)\n",
    "l.pop(1) # 删除索引对应位置的元素\n",
    "print(l)\n",
    "l.insert(1,1) # 在某个索引位置插入元素\n",
    "print(l)\n",
    "l.pop() # 删除并返回末尾元素\n",
    "print(l)\n",
    "print(l[-1]) # 获取最后一个元素\n",
    "print(l[0]) # 获取第一个元素\n",
    "l[0] = 0 # 修改元素\n",
    "print(l)"
   ]
  },
  {
   "cell_type": "code",
   "execution_count": 10,
   "metadata": {},
   "outputs": [
    {
     "name": "stdout",
     "output_type": "stream",
     "text": [
      "()\n",
      "(1,)\n",
      "('A', 1)\n",
      "('A', 1.2, ['B'])\n",
      "('A', 1.2, ['B', 'C'])\n"
     ]
    }
   ],
   "source": [
    "# 元组 tuple; 不可变的list\n",
    "t = ()\n",
    "t1 = (1,)\n",
    "t2 = ('A',1)\n",
    "t3 = ('A',1.2, ['B'])\n",
    "print(t)\n",
    "print(t1)\n",
    "print(t2)\n",
    "print(t3)\n",
    "t3[2].append('C')\n",
    "print(t3)"
   ]
  },
  {
   "cell_type": "code",
   "execution_count": 11,
   "metadata": {},
   "outputs": [
    {
     "name": "stdout",
     "output_type": "stream",
     "text": [
      "age: 18\n",
      "teenager\n"
     ]
    }
   ],
   "source": [
    "# if 判断\n",
    "age = 18\n",
    "if age < 13:\n",
    "    print('age:',age)\n",
    "    print('child')\n",
    "elif age <= 19:\n",
    "    print('age:',age)\n",
    "    print('teenager')\n",
    "else:\n",
    "    print('age:',age)\n",
    "    print('adult')"
   ]
  },
  {
   "cell_type": "code",
   "execution_count": 12,
   "metadata": {},
   "outputs": [
    {
     "name": "stdout",
     "output_type": "stream",
     "text": [
      "{'a': 1, 'b': 2, 3: 3}\n",
      "{'a': 1, 'b': 2}\n",
      "{'a': 1, 'b': 2, 'c': 3}\n",
      "3\n",
      "3\n",
      "4\n",
      "True\n",
      "True\n",
      "a\n",
      "b\n",
      "c\n"
     ]
    }
   ],
   "source": [
    "# 字典 dict; 其它语言中的map\n",
    "m = {'a':1,'b':2, 3:3} # key 只要是不可变的值就行\n",
    "print(m)\n",
    "\n",
    "m.pop(3) # 删除\n",
    "print(m)\n",
    "\n",
    "m['c'] = 3 \n",
    "print(m)\n",
    "\n",
    "print(m['c'])\n",
    "print(m.get('c'))\n",
    "print(m.get('d',4)) # 没有的话返回一个4\n",
    "\n",
    "print('c' in m) # True\n",
    "print(m.get('d') == None) # True\n",
    "#print(m['d'])\n",
    "\n",
    "for key in m:\n",
    "    print(key)"
   ]
  },
  {
   "cell_type": "code",
   "execution_count": 13,
   "metadata": {},
   "outputs": [
    {
     "name": "stdout",
     "output_type": "stream",
     "text": [
      "{1, 3, '2'}\n",
      "{1, 3, '2', 4}\n",
      "{1, 3, 4}\n"
     ]
    }
   ],
   "source": [
    "# 集合 set; 没有value的dict\n",
    "s = set([1,'2',3])\n",
    "print(s)\n",
    "s.add(4)\n",
    "print(s)\n",
    "s.remove('2')\n",
    "print(s)"
   ]
  }
 ],
 "metadata": {
  "kernelspec": {
   "display_name": "Python 3.10.6 64-bit",
   "language": "python",
   "name": "python3"
  },
  "language_info": {
   "codemirror_mode": {
    "name": "ipython",
    "version": 3
   },
   "file_extension": ".py",
   "mimetype": "text/x-python",
   "name": "python",
   "nbconvert_exporter": "python",
   "pygments_lexer": "ipython3",
   "version": "3.10.6"
  },
  "orig_nbformat": 4,
  "vscode": {
   "interpreter": {
    "hash": "d99a3f7b344b3c3107482760db15f42178bfad658d282ab0a919b76809e13cb5"
   }
  }
 },
 "nbformat": 4,
 "nbformat_minor": 2
}
