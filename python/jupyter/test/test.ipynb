{
 "cells": [
  {
   "cell_type": "markdown",
   "metadata": {
    "pycharm": {
     "name": "#%% md\n"
    }
   },
   "source": [
    "## 单元测试"
   ]
  },
  {
   "cell_type": "code",
   "execution_count": 1,
   "metadata": {
    "pycharm": {
     "name": "#%%\n"
    }
   },
   "outputs": [
    {
     "name": "stderr",
     "output_type": "stream",
     "text": [
      "usage: ipykernel_launcher.py [-h] [-v] [-q] [--locals] [-f] [-c] [-b]\n",
      "                             [-k TESTNAMEPATTERNS]\n",
      "                             [tests ...]\n",
      "ipykernel_launcher.py: error: argument -f/--failfast: ignored explicit argument 'c:\\\\Users\\\\admin\\\\AppData\\\\Roaming\\\\jupyter\\\\runtime\\\\kernel-v2-50956ff6sqOdc6il6.json'\n"
     ]
    },
    {
     "ename": "AssertionError",
     "evalue": "",
     "output_type": "error",
     "traceback": [
      "\u001B[1;31m---------------------------------------------------------------------------\u001B[0m",
      "\u001B[1;31mArgumentError\u001B[0m                             Traceback (most recent call last)",
      "File \u001B[1;32mD:\\Program Files\\Python310\\lib\\argparse.py:1859\u001B[0m, in \u001B[0;36mArgumentParser.parse_known_args\u001B[1;34m(self, args, namespace)\u001B[0m\n\u001B[0;32m   1858\u001B[0m \u001B[39mtry\u001B[39;00m:\n\u001B[1;32m-> 1859\u001B[0m     namespace, args \u001B[39m=\u001B[39m \u001B[39mself\u001B[39;49m\u001B[39m.\u001B[39;49m_parse_known_args(args, namespace)\n\u001B[0;32m   1860\u001B[0m \u001B[39mexcept\u001B[39;00m ArgumentError:\n",
      "File \u001B[1;32mD:\\Program Files\\Python310\\lib\\argparse.py:2068\u001B[0m, in \u001B[0;36mArgumentParser._parse_known_args\u001B[1;34m(self, arg_strings, namespace)\u001B[0m\n\u001B[0;32m   2067\u001B[0m     \u001B[39m# consume the next optional and any arguments for it\u001B[39;00m\n\u001B[1;32m-> 2068\u001B[0m     start_index \u001B[39m=\u001B[39m consume_optional(start_index)\n\u001B[0;32m   2070\u001B[0m \u001B[39m# consume any positionals following the last Optional\u001B[39;00m\n",
      "File \u001B[1;32mD:\\Program Files\\Python310\\lib\\argparse.py:1990\u001B[0m, in \u001B[0;36mArgumentParser._parse_known_args.<locals>.consume_optional\u001B[1;34m(start_index)\u001B[0m\n\u001B[0;32m   1989\u001B[0m         msg \u001B[39m=\u001B[39m _(\u001B[39m'\u001B[39m\u001B[39mignored explicit argument \u001B[39m\u001B[39m%r\u001B[39;00m\u001B[39m'\u001B[39m)\n\u001B[1;32m-> 1990\u001B[0m         \u001B[39mraise\u001B[39;00m ArgumentError(action, msg \u001B[39m%\u001B[39m explicit_arg)\n\u001B[0;32m   1992\u001B[0m \u001B[39m# if there is no explicit argument, try to match the\u001B[39;00m\n\u001B[0;32m   1993\u001B[0m \u001B[39m# optional's string arguments with the following strings\u001B[39;00m\n\u001B[0;32m   1994\u001B[0m \u001B[39m# if successful, exit the loop\u001B[39;00m\n\u001B[0;32m   1995\u001B[0m \u001B[39melse\u001B[39;00m:\n",
      "\u001B[1;31mArgumentError\u001B[0m: argument -f/--failfast: ignored explicit argument 'c:\\\\Users\\\\admin\\\\AppData\\\\Roaming\\\\jupyter\\\\runtime\\\\kernel-v2-50956ff6sqOdc6il6.json'",
      "\nDuring handling of the above exception, another exception occurred:\n",
      "\u001B[1;31mSystemExit\u001B[0m                                Traceback (most recent call last)",
      "    \u001B[1;31m[... skipping hidden 1 frame]\u001B[0m\n",
      "\u001B[1;32md:\\learningnotes\\python\\jupyter\\test.ipynb Cell 2\u001B[0m in \u001B[0;36m<cell line: 29>\u001B[1;34m()\u001B[0m\n\u001B[0;32m     <a href='vscode-notebook-cell:/d%3A/learningnotes/python/jupyter/test.ipynb#W1sZmlsZQ%3D%3D?line=28'>29</a>\u001B[0m \u001B[39mif\u001B[39;00m \u001B[39m__name__\u001B[39m \u001B[39m==\u001B[39m \u001B[39m'\u001B[39m\u001B[39m__main__\u001B[39m\u001B[39m'\u001B[39m:\n\u001B[1;32m---> <a href='vscode-notebook-cell:/d%3A/learningnotes/python/jupyter/test.ipynb#W1sZmlsZQ%3D%3D?line=29'>30</a>\u001B[0m     unittest\u001B[39m.\u001B[39;49mmain()\n",
      "File \u001B[1;32mD:\\Program Files\\Python310\\lib\\unittest\\main.py:100\u001B[0m, in \u001B[0;36mTestProgram.__init__\u001B[1;34m(self, module, defaultTest, argv, testRunner, testLoader, exit, verbosity, failfast, catchbreak, buffer, warnings, tb_locals)\u001B[0m\n\u001B[0;32m     99\u001B[0m \u001B[39mself\u001B[39m\u001B[39m.\u001B[39mprogName \u001B[39m=\u001B[39m os\u001B[39m.\u001B[39mpath\u001B[39m.\u001B[39mbasename(argv[\u001B[39m0\u001B[39m])\n\u001B[1;32m--> 100\u001B[0m \u001B[39mself\u001B[39;49m\u001B[39m.\u001B[39;49mparseArgs(argv)\n\u001B[0;32m    101\u001B[0m \u001B[39mself\u001B[39m\u001B[39m.\u001B[39mrunTests()\n",
      "File \u001B[1;32mD:\\Program Files\\Python310\\lib\\unittest\\main.py:133\u001B[0m, in \u001B[0;36mTestProgram.parseArgs\u001B[1;34m(self, argv)\u001B[0m\n\u001B[0;32m    132\u001B[0m \u001B[39melse\u001B[39;00m:\n\u001B[1;32m--> 133\u001B[0m     \u001B[39mself\u001B[39;49m\u001B[39m.\u001B[39;49m_main_parser\u001B[39m.\u001B[39;49mparse_args(argv[\u001B[39m1\u001B[39;49m:], \u001B[39mself\u001B[39;49m)\n\u001B[0;32m    135\u001B[0m \u001B[39mif\u001B[39;00m \u001B[39mself\u001B[39m\u001B[39m.\u001B[39mtests:\n",
      "File \u001B[1;32mD:\\Program Files\\Python310\\lib\\argparse.py:1826\u001B[0m, in \u001B[0;36mArgumentParser.parse_args\u001B[1;34m(self, args, namespace)\u001B[0m\n\u001B[0;32m   1825\u001B[0m \u001B[39mdef\u001B[39;00m \u001B[39mparse_args\u001B[39m(\u001B[39mself\u001B[39m, args\u001B[39m=\u001B[39m\u001B[39mNone\u001B[39;00m, namespace\u001B[39m=\u001B[39m\u001B[39mNone\u001B[39;00m):\n\u001B[1;32m-> 1826\u001B[0m     args, argv \u001B[39m=\u001B[39m \u001B[39mself\u001B[39;49m\u001B[39m.\u001B[39;49mparse_known_args(args, namespace)\n\u001B[0;32m   1827\u001B[0m     \u001B[39mif\u001B[39;00m argv:\n",
      "File \u001B[1;32mD:\\Program Files\\Python310\\lib\\argparse.py:1862\u001B[0m, in \u001B[0;36mArgumentParser.parse_known_args\u001B[1;34m(self, args, namespace)\u001B[0m\n\u001B[0;32m   1861\u001B[0m         err \u001B[39m=\u001B[39m _sys\u001B[39m.\u001B[39mexc_info()[\u001B[39m1\u001B[39m]\n\u001B[1;32m-> 1862\u001B[0m         \u001B[39mself\u001B[39;49m\u001B[39m.\u001B[39;49merror(\u001B[39mstr\u001B[39;49m(err))\n\u001B[0;32m   1863\u001B[0m \u001B[39melse\u001B[39;00m:\n",
      "File \u001B[1;32mD:\\Program Files\\Python310\\lib\\argparse.py:2583\u001B[0m, in \u001B[0;36mArgumentParser.error\u001B[1;34m(self, message)\u001B[0m\n\u001B[0;32m   2582\u001B[0m args \u001B[39m=\u001B[39m {\u001B[39m'\u001B[39m\u001B[39mprog\u001B[39m\u001B[39m'\u001B[39m: \u001B[39mself\u001B[39m\u001B[39m.\u001B[39mprog, \u001B[39m'\u001B[39m\u001B[39mmessage\u001B[39m\u001B[39m'\u001B[39m: message}\n\u001B[1;32m-> 2583\u001B[0m \u001B[39mself\u001B[39;49m\u001B[39m.\u001B[39;49mexit(\u001B[39m2\u001B[39;49m, _(\u001B[39m'\u001B[39;49m\u001B[39m%(prog)s\u001B[39;49;00m\u001B[39m: error: \u001B[39;49m\u001B[39m%(message)s\u001B[39;49;00m\u001B[39m\\n\u001B[39;49;00m\u001B[39m'\u001B[39;49m) \u001B[39m%\u001B[39;49m args)\n",
      "File \u001B[1;32mD:\\Program Files\\Python310\\lib\\argparse.py:2570\u001B[0m, in \u001B[0;36mArgumentParser.exit\u001B[1;34m(self, status, message)\u001B[0m\n\u001B[0;32m   2569\u001B[0m     \u001B[39mself\u001B[39m\u001B[39m.\u001B[39m_print_message(message, _sys\u001B[39m.\u001B[39mstderr)\n\u001B[1;32m-> 2570\u001B[0m _sys\u001B[39m.\u001B[39;49mexit(status)\n",
      "\u001B[1;31mSystemExit\u001B[0m: 2",
      "\nDuring handling of the above exception, another exception occurred:\n",
      "\u001B[1;31mAssertionError\u001B[0m                            Traceback (most recent call last)",
      "    \u001B[1;31m[... skipping hidden 1 frame]\u001B[0m\n",
      "File \u001B[1;32md:\\learningnotes\\python\\venv\\lib\\site-packages\\IPython\\core\\interactiveshell.py:1983\u001B[0m, in \u001B[0;36mInteractiveShell.showtraceback\u001B[1;34m(self, exc_tuple, filename, tb_offset, exception_only, running_compiled_code)\u001B[0m\n\u001B[0;32m   1980\u001B[0m \u001B[39mif\u001B[39;00m exception_only:\n\u001B[0;32m   1981\u001B[0m     stb \u001B[39m=\u001B[39m [\u001B[39m'\u001B[39m\u001B[39mAn exception has occurred, use \u001B[39m\u001B[39m%\u001B[39m\u001B[39mtb to see \u001B[39m\u001B[39m'\u001B[39m\n\u001B[0;32m   1982\u001B[0m            \u001B[39m'\u001B[39m\u001B[39mthe full traceback.\u001B[39m\u001B[39m\\n\u001B[39;00m\u001B[39m'\u001B[39m]\n\u001B[1;32m-> 1983\u001B[0m     stb\u001B[39m.\u001B[39mextend(\u001B[39mself\u001B[39;49m\u001B[39m.\u001B[39;49mInteractiveTB\u001B[39m.\u001B[39;49mget_exception_only(etype,\n\u001B[0;32m   1984\u001B[0m                                                      value))\n\u001B[0;32m   1985\u001B[0m \u001B[39melse\u001B[39;00m:\n\u001B[0;32m   1986\u001B[0m     \u001B[39mtry\u001B[39;00m:\n\u001B[0;32m   1987\u001B[0m         \u001B[39m# Exception classes can customise their traceback - we\u001B[39;00m\n\u001B[0;32m   1988\u001B[0m         \u001B[39m# use this in IPython.parallel for exceptions occurring\u001B[39;00m\n\u001B[0;32m   1989\u001B[0m         \u001B[39m# in the engines. This should return a list of strings.\u001B[39;00m\n",
      "File \u001B[1;32md:\\learningnotes\\python\\venv\\lib\\site-packages\\IPython\\core\\ultratb.py:585\u001B[0m, in \u001B[0;36mListTB.get_exception_only\u001B[1;34m(self, etype, value)\u001B[0m\n\u001B[0;32m    577\u001B[0m \u001B[39mdef\u001B[39;00m \u001B[39mget_exception_only\u001B[39m(\u001B[39mself\u001B[39m, etype, value):\n\u001B[0;32m    578\u001B[0m     \u001B[39m\"\"\"Only print the exception type and message, without a traceback.\u001B[39;00m\n\u001B[0;32m    579\u001B[0m \n\u001B[0;32m    580\u001B[0m \u001B[39m    Parameters\u001B[39;00m\n\u001B[1;32m   (...)\u001B[0m\n\u001B[0;32m    583\u001B[0m \u001B[39m    value : exception value\u001B[39;00m\n\u001B[0;32m    584\u001B[0m \u001B[39m    \"\"\"\u001B[39;00m\n\u001B[1;32m--> 585\u001B[0m     \u001B[39mreturn\u001B[39;00m ListTB\u001B[39m.\u001B[39;49mstructured_traceback(\u001B[39mself\u001B[39;49m, etype, value)\n",
      "File \u001B[1;32md:\\learningnotes\\python\\venv\\lib\\site-packages\\IPython\\core\\ultratb.py:443\u001B[0m, in \u001B[0;36mListTB.structured_traceback\u001B[1;34m(self, etype, evalue, etb, tb_offset, context)\u001B[0m\n\u001B[0;32m    440\u001B[0m     chained_exc_ids\u001B[39m.\u001B[39madd(\u001B[39mid\u001B[39m(exception[\u001B[39m1\u001B[39m]))\n\u001B[0;32m    441\u001B[0m     chained_exceptions_tb_offset \u001B[39m=\u001B[39m \u001B[39m0\u001B[39m\n\u001B[0;32m    442\u001B[0m     out_list \u001B[39m=\u001B[39m (\n\u001B[1;32m--> 443\u001B[0m         \u001B[39mself\u001B[39;49m\u001B[39m.\u001B[39;49mstructured_traceback(\n\u001B[0;32m    444\u001B[0m             etype, evalue, (etb, chained_exc_ids),\n\u001B[0;32m    445\u001B[0m             chained_exceptions_tb_offset, context)\n\u001B[0;32m    446\u001B[0m         \u001B[39m+\u001B[39m chained_exception_message\n\u001B[0;32m    447\u001B[0m         \u001B[39m+\u001B[39m out_list)\n\u001B[0;32m    449\u001B[0m \u001B[39mreturn\u001B[39;00m out_list\n",
      "File \u001B[1;32md:\\learningnotes\\python\\venv\\lib\\site-packages\\IPython\\core\\ultratb.py:1118\u001B[0m, in \u001B[0;36mAutoFormattedTB.structured_traceback\u001B[1;34m(self, etype, value, tb, tb_offset, number_of_lines_of_context)\u001B[0m\n\u001B[0;32m   1116\u001B[0m \u001B[39melse\u001B[39;00m:\n\u001B[0;32m   1117\u001B[0m     \u001B[39mself\u001B[39m\u001B[39m.\u001B[39mtb \u001B[39m=\u001B[39m tb\n\u001B[1;32m-> 1118\u001B[0m \u001B[39mreturn\u001B[39;00m FormattedTB\u001B[39m.\u001B[39;49mstructured_traceback(\n\u001B[0;32m   1119\u001B[0m     \u001B[39mself\u001B[39;49m, etype, value, tb, tb_offset, number_of_lines_of_context)\n",
      "File \u001B[1;32md:\\learningnotes\\python\\venv\\lib\\site-packages\\IPython\\core\\ultratb.py:1012\u001B[0m, in \u001B[0;36mFormattedTB.structured_traceback\u001B[1;34m(self, etype, value, tb, tb_offset, number_of_lines_of_context)\u001B[0m\n\u001B[0;32m   1009\u001B[0m mode \u001B[39m=\u001B[39m \u001B[39mself\u001B[39m\u001B[39m.\u001B[39mmode\n\u001B[0;32m   1010\u001B[0m \u001B[39mif\u001B[39;00m mode \u001B[39min\u001B[39;00m \u001B[39mself\u001B[39m\u001B[39m.\u001B[39mverbose_modes:\n\u001B[0;32m   1011\u001B[0m     \u001B[39m# Verbose modes need a full traceback\u001B[39;00m\n\u001B[1;32m-> 1012\u001B[0m     \u001B[39mreturn\u001B[39;00m VerboseTB\u001B[39m.\u001B[39;49mstructured_traceback(\n\u001B[0;32m   1013\u001B[0m         \u001B[39mself\u001B[39;49m, etype, value, tb, tb_offset, number_of_lines_of_context\n\u001B[0;32m   1014\u001B[0m     )\n\u001B[0;32m   1015\u001B[0m \u001B[39melif\u001B[39;00m mode \u001B[39m==\u001B[39m \u001B[39m'\u001B[39m\u001B[39mMinimal\u001B[39m\u001B[39m'\u001B[39m:\n\u001B[0;32m   1016\u001B[0m     \u001B[39mreturn\u001B[39;00m ListTB\u001B[39m.\u001B[39mget_exception_only(\u001B[39mself\u001B[39m, etype, value)\n",
      "File \u001B[1;32md:\\learningnotes\\python\\venv\\lib\\site-packages\\IPython\\core\\ultratb.py:865\u001B[0m, in \u001B[0;36mVerboseTB.structured_traceback\u001B[1;34m(self, etype, evalue, etb, tb_offset, number_of_lines_of_context)\u001B[0m\n\u001B[0;32m    856\u001B[0m \u001B[39mdef\u001B[39;00m \u001B[39mstructured_traceback\u001B[39m(\n\u001B[0;32m    857\u001B[0m     \u001B[39mself\u001B[39m,\n\u001B[0;32m    858\u001B[0m     etype: \u001B[39mtype\u001B[39m,\n\u001B[1;32m   (...)\u001B[0m\n\u001B[0;32m    862\u001B[0m     number_of_lines_of_context: \u001B[39mint\u001B[39m \u001B[39m=\u001B[39m \u001B[39m5\u001B[39m,\n\u001B[0;32m    863\u001B[0m ):\n\u001B[0;32m    864\u001B[0m     \u001B[39m\"\"\"Return a nice text document describing the traceback.\"\"\"\u001B[39;00m\n\u001B[1;32m--> 865\u001B[0m     formatted_exception \u001B[39m=\u001B[39m \u001B[39mself\u001B[39;49m\u001B[39m.\u001B[39;49mformat_exception_as_a_whole(etype, evalue, etb, number_of_lines_of_context,\n\u001B[0;32m    866\u001B[0m                                                            tb_offset)\n\u001B[0;32m    868\u001B[0m     colors \u001B[39m=\u001B[39m \u001B[39mself\u001B[39m\u001B[39m.\u001B[39mColors  \u001B[39m# just a shorthand + quicker name lookup\u001B[39;00m\n\u001B[0;32m    869\u001B[0m     colorsnormal \u001B[39m=\u001B[39m colors\u001B[39m.\u001B[39mNormal  \u001B[39m# used a lot\u001B[39;00m\n",
      "File \u001B[1;32md:\\learningnotes\\python\\venv\\lib\\site-packages\\IPython\\core\\ultratb.py:799\u001B[0m, in \u001B[0;36mVerboseTB.format_exception_as_a_whole\u001B[1;34m(self, etype, evalue, etb, number_of_lines_of_context, tb_offset)\u001B[0m\n\u001B[0;32m    796\u001B[0m \u001B[39massert\u001B[39;00m \u001B[39misinstance\u001B[39m(tb_offset, \u001B[39mint\u001B[39m)\n\u001B[0;32m    797\u001B[0m head \u001B[39m=\u001B[39m \u001B[39mself\u001B[39m\u001B[39m.\u001B[39mprepare_header(etype, \u001B[39mself\u001B[39m\u001B[39m.\u001B[39mlong_header)\n\u001B[0;32m    798\u001B[0m records \u001B[39m=\u001B[39m (\n\u001B[1;32m--> 799\u001B[0m     \u001B[39mself\u001B[39;49m\u001B[39m.\u001B[39;49mget_records(etb, number_of_lines_of_context, tb_offset) \u001B[39mif\u001B[39;00m etb \u001B[39melse\u001B[39;00m []\n\u001B[0;32m    800\u001B[0m )\n\u001B[0;32m    802\u001B[0m frames \u001B[39m=\u001B[39m []\n\u001B[0;32m    803\u001B[0m skipped \u001B[39m=\u001B[39m \u001B[39m0\u001B[39m\n",
      "File \u001B[1;32md:\\learningnotes\\python\\venv\\lib\\site-packages\\IPython\\core\\ultratb.py:854\u001B[0m, in \u001B[0;36mVerboseTB.get_records\u001B[1;34m(self, etb, number_of_lines_of_context, tb_offset)\u001B[0m\n\u001B[0;32m    848\u001B[0m     formatter \u001B[39m=\u001B[39m \u001B[39mNone\u001B[39;00m\n\u001B[0;32m    849\u001B[0m options \u001B[39m=\u001B[39m stack_data\u001B[39m.\u001B[39mOptions(\n\u001B[0;32m    850\u001B[0m     before\u001B[39m=\u001B[39mbefore,\n\u001B[0;32m    851\u001B[0m     after\u001B[39m=\u001B[39mafter,\n\u001B[0;32m    852\u001B[0m     pygments_formatter\u001B[39m=\u001B[39mformatter,\n\u001B[0;32m    853\u001B[0m )\n\u001B[1;32m--> 854\u001B[0m \u001B[39mreturn\u001B[39;00m \u001B[39mlist\u001B[39;49m(stack_data\u001B[39m.\u001B[39;49mFrameInfo\u001B[39m.\u001B[39;49mstack_data(etb, options\u001B[39m=\u001B[39;49moptions))[tb_offset:]\n",
      "File \u001B[1;32md:\\learningnotes\\python\\venv\\lib\\site-packages\\stack_data\\core.py:578\u001B[0m, in \u001B[0;36mFrameInfo.stack_data\u001B[1;34m(cls, frame_or_tb, options, collapse_repeated_frames)\u001B[0m\n\u001B[0;32m    562\u001B[0m \u001B[39m@classmethod\u001B[39m\n\u001B[0;32m    563\u001B[0m \u001B[39mdef\u001B[39;00m \u001B[39mstack_data\u001B[39m(\n\u001B[0;32m    564\u001B[0m         \u001B[39mcls\u001B[39m,\n\u001B[1;32m   (...)\u001B[0m\n\u001B[0;32m    568\u001B[0m         collapse_repeated_frames: \u001B[39mbool\u001B[39m \u001B[39m=\u001B[39m \u001B[39mTrue\u001B[39;00m\n\u001B[0;32m    569\u001B[0m ) \u001B[39m-\u001B[39m\u001B[39m>\u001B[39m Iterator[Union[\u001B[39m'\u001B[39m\u001B[39mFrameInfo\u001B[39m\u001B[39m'\u001B[39m, RepeatedFrames]]:\n\u001B[0;32m    570\u001B[0m     \u001B[39m\"\"\"\u001B[39;00m\n\u001B[0;32m    571\u001B[0m \u001B[39m    An iterator of FrameInfo and RepeatedFrames objects representing\u001B[39;00m\n\u001B[0;32m    572\u001B[0m \u001B[39m    a full traceback or stack. Similar consecutive frames are collapsed into RepeatedFrames\u001B[39;00m\n\u001B[1;32m   (...)\u001B[0m\n\u001B[0;32m    576\u001B[0m \u001B[39m    and optionally an Options object to configure.\u001B[39;00m\n\u001B[0;32m    577\u001B[0m \u001B[39m    \"\"\"\u001B[39;00m\n\u001B[1;32m--> 578\u001B[0m     stack \u001B[39m=\u001B[39m \u001B[39mlist\u001B[39;49m(iter_stack(frame_or_tb))\n\u001B[0;32m    580\u001B[0m     \u001B[39m# Reverse the stack from a frame so that it's in the same order\u001B[39;00m\n\u001B[0;32m    581\u001B[0m     \u001B[39m# as the order from a traceback, which is the order of a printed\u001B[39;00m\n\u001B[0;32m    582\u001B[0m     \u001B[39m# traceback when read top to bottom (most recent call last)\u001B[39;00m\n\u001B[0;32m    583\u001B[0m     \u001B[39mif\u001B[39;00m is_frame(frame_or_tb):\n",
      "File \u001B[1;32md:\\learningnotes\\python\\venv\\lib\\site-packages\\stack_data\\utils.py:98\u001B[0m, in \u001B[0;36miter_stack\u001B[1;34m(frame_or_tb)\u001B[0m\n\u001B[0;32m     96\u001B[0m \u001B[39mwhile\u001B[39;00m frame_or_tb:\n\u001B[0;32m     97\u001B[0m     \u001B[39myield\u001B[39;00m frame_or_tb\n\u001B[1;32m---> 98\u001B[0m     \u001B[39mif\u001B[39;00m is_frame(frame_or_tb):\n\u001B[0;32m     99\u001B[0m         frame_or_tb \u001B[39m=\u001B[39m frame_or_tb\u001B[39m.\u001B[39mf_back\n\u001B[0;32m    100\u001B[0m     \u001B[39melse\u001B[39;00m:\n",
      "File \u001B[1;32md:\\learningnotes\\python\\venv\\lib\\site-packages\\stack_data\\utils.py:91\u001B[0m, in \u001B[0;36mis_frame\u001B[1;34m(frame_or_tb)\u001B[0m\n\u001B[0;32m     90\u001B[0m \u001B[39mdef\u001B[39;00m \u001B[39mis_frame\u001B[39m(frame_or_tb: Union[FrameType, TracebackType]) \u001B[39m-\u001B[39m\u001B[39m>\u001B[39m \u001B[39mbool\u001B[39m:\n\u001B[1;32m---> 91\u001B[0m     assert_(\u001B[39misinstance\u001B[39;49m(frame_or_tb, (types\u001B[39m.\u001B[39;49mFrameType, types\u001B[39m.\u001B[39;49mTracebackType)))\n\u001B[0;32m     92\u001B[0m     \u001B[39mreturn\u001B[39;00m \u001B[39misinstance\u001B[39m(frame_or_tb, (types\u001B[39m.\u001B[39mFrameType,))\n",
      "File \u001B[1;32md:\\learningnotes\\python\\venv\\lib\\site-packages\\stack_data\\utils.py:172\u001B[0m, in \u001B[0;36massert_\u001B[1;34m(condition, error)\u001B[0m\n\u001B[0;32m    170\u001B[0m \u001B[39mif\u001B[39;00m \u001B[39misinstance\u001B[39m(error, \u001B[39mstr\u001B[39m):\n\u001B[0;32m    171\u001B[0m     error \u001B[39m=\u001B[39m \u001B[39mAssertionError\u001B[39;00m(error)\n\u001B[1;32m--> 172\u001B[0m \u001B[39mraise\u001B[39;00m error\n",
      "\u001B[1;31mAssertionError\u001B[0m: "
     ]
    }
   ],
   "source": [
    "import unittest\n",
    "\n",
    "def abs(a):\n",
    "    if not isinstance(a,(int,float)):\n",
    "        raise TypeError(\"must be int or float!\")\n",
    "    if a >= 0:\n",
    "        return a \n",
    "    return -a\n",
    "\n",
    "class TestAbs(unittest.TestCase):\n",
    "\n",
    "    def setUp(self):\n",
    "        print('setUp...')\n",
    "\n",
    "    def tearDown(self):\n",
    "        print('tearDown...')\n",
    "\n",
    "    def test_n(self):\n",
    "        self.assertTrue(abs(0) == 0)\n",
    "        self.assertEqual(abs(1),1)\n",
    "        self.assertEqual(abs(-1), 1)\n",
    "        self.assertEqual(abs(1.2),1.2)\n",
    "        self.assertEqual(abs(-1.2),1.2)\n",
    "\n",
    "    def test_typerror(self):\n",
    "        with self.assertRaises(TypeError):\n",
    "            abs(\"a\")\n",
    "\n",
    "if __name__ == '__main__':\n",
    "    unittest.main()"
   ]
  },
  {
   "cell_type": "markdown",
   "metadata": {
    "pycharm": {
     "name": "#%% md\n"
    }
   },
   "source": [
    "## 文档测试"
   ]
  },
  {
   "cell_type": "code",
   "execution_count": null,
   "metadata": {
    "pycharm": {
     "name": "#%%\n"
    }
   },
   "outputs": [],
   "source": [
    "def abs(a):\n",
    "    '''\n",
    "    Function to get absolute value of number.\n",
    "    \n",
    "    Example:\n",
    "    \n",
    "    >>> abs(1)\n",
    "    1\n",
    "    >>> abs(-1)\n",
    "    1\n",
    "    >>> abs(0)\n",
    "    0\n",
    "    >>> abs(\"a\")\n",
    "    Traceback (most recent call last):\n",
    "        ...\n",
    "    TypeError: must be int or float!\n",
    "    '''\n",
    "    \n",
    "    if not isinstance(a,(int,float)):\n",
    "        raise TypeError(\"must be int or float!\")\n",
    "    if a >= 0:\n",
    "        return a \n",
    "    return -a\n",
    "\n",
    "if __name__=='__main__':\n",
    "    import doctest\n",
    "    doctest.testmod()"
   ]
  }
 ],
 "metadata": {
  "kernelspec": {
   "display_name": "Python 3.10.6 ('venv': venv)",
   "language": "python",
   "name": "python3"
  },
  "language_info": {
   "codemirror_mode": {
    "name": "ipython",
    "version": 3
   },
   "file_extension": ".py",
   "mimetype": "text/x-python",
   "name": "python",
   "nbconvert_exporter": "python",
   "pygments_lexer": "ipython3",
   "version": "3.10.6"
  },
  "orig_nbformat": 4,
  "vscode": {
   "interpreter": {
    "hash": "ce14df5d92cfec294d22f79ae27f3955c716086372bfb1465385beefeb06480e"
   }
  }
 },
 "nbformat": 4,
 "nbformat_minor": 2
}