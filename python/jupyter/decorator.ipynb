{
 "cells": [
  {
   "cell_type": "markdown",
   "metadata": {},
   "source": [
    "## 装饰器"
   ]
  },
  {
   "cell_type": "code",
   "execution_count": 1,
   "metadata": {},
   "outputs": [
    {
     "name": "stdout",
     "output_type": "stream",
     "text": [
      "begin call f1\n",
      "I am f1\n",
      "end call\n"
     ]
    }
   ],
   "source": [
    "import functools\n",
    "\n",
    "# 无参数装饰器\n",
    "def d1(func):\n",
    "    @functools.wraps(func) # 保持被装饰器修饰的方法的方法名称不变\n",
    "    def wrapper(*args, **kv):\n",
    "        print(\"begin call %s\" % func.__name__) # 原方法前执行\n",
    "        func(*args,**kv) # 调用被装饰器修饰的方法\n",
    "        print(\"end call\") # 原方法后执行\n",
    "    return wrapper\n",
    "\n",
    "@d1\n",
    "def f1():\n",
    "    print(\"I am f1\")\n",
    "\n",
    "f1()"
   ]
  },
  {
   "cell_type": "code",
   "execution_count": 2,
   "metadata": {},
   "outputs": [
    {
     "name": "stdout",
     "output_type": "stream",
     "text": [
      "begin call f2 hello\n",
      "I am f2\n",
      "end call\n"
     ]
    }
   ],
   "source": [
    "import functools\n",
    "\n",
    "# 有参数装饰器\n",
    "def d2(a):\n",
    "    def decorator(func):\n",
    "        @functools.wraps(func)\n",
    "        def wrapper(*args, **kv):\n",
    "            print(\"begin call %s %s\" % (func.__name__,a)) # 原方法前执行\n",
    "            func(*args, **kv) # 调用被装饰器修饰的方法\n",
    "            print(\"end call\") # 原方法后执行\n",
    "        return wrapper\n",
    "    return decorator\n",
    "\n",
    "@d2('hello')\n",
    "def f2():\n",
    "    print(\"I am f2\")\n",
    "\n",
    "f2()"
   ]
  }
 ],
 "metadata": {
  "kernelspec": {
   "display_name": "Python 3.10.6 64-bit",
   "language": "python",
   "name": "python3"
  },
  "language_info": {
   "codemirror_mode": {
    "name": "ipython",
    "version": 3
   },
   "file_extension": ".py",
   "mimetype": "text/x-python",
   "name": "python",
   "nbconvert_exporter": "python",
   "pygments_lexer": "ipython3",
   "version": "3.10.6"
  },
  "orig_nbformat": 4,
  "vscode": {
   "interpreter": {
    "hash": "d99a3f7b344b3c3107482760db15f42178bfad658d282ab0a919b76809e13cb5"
   }
  }
 },
 "nbformat": 4,
 "nbformat_minor": 2
}
