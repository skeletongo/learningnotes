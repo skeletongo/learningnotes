{
 "cells": [
  {
   "cell_type": "markdown",
   "metadata": {
    "pycharm": {
     "name": "#%% md\n"
    }
   },
   "source": [
    "## 遍历"
   ]
  },
  {
   "cell_type": "code",
   "execution_count": 27,
   "metadata": {
    "pycharm": {
     "name": "#%%\n"
    }
   },
   "outputs": [
    {
     "name": "stdout",
     "output_type": "stream",
     "text": [
      "1\n",
      "2\n",
      "3\n",
      "[0, 1, 2]\n",
      "(0, 1, 2)\n",
      "1\n",
      "3\n",
      "5\n",
      "7\n",
      "9\n"
     ]
    }
   ],
   "source": [
    "# for\n",
    "for e in [1,2,3]:\n",
    "    print(e)\n",
    "\n",
    "l = list(range(3))\n",
    "print(l) # [0, 1, 2]\n",
    "\n",
    "t = tuple(range(3))\n",
    "print(t) # (0, 1, 2)\n",
    "\n",
    "for e in range(100):\n",
    "    if e >= 10:\n",
    "        break\n",
    "    if e%2 == 0:\n",
    "        continue\n",
    "    print(e)"
   ]
  },
  {
   "cell_type": "code",
   "execution_count": 28,
   "metadata": {
    "pycharm": {
     "name": "#%%\n"
    }
   },
   "outputs": [
    {
     "name": "stdout",
     "output_type": "stream",
     "text": [
      "1 1\n",
      "2 4\n",
      "3 9\n"
     ]
    }
   ],
   "source": [
    "# 多值遍历\n",
    "for x, y in [(1, 1), (2, 4), (3, 9)]:\n",
    "    print(x,y)"
   ]
  },
  {
   "cell_type": "code",
   "execution_count": 29,
   "metadata": {
    "pycharm": {
     "name": "#%%\n"
    }
   },
   "outputs": [
    {
     "name": "stdout",
     "output_type": "stream",
     "text": [
      "a\n",
      "b\n",
      "a 1\n",
      "b 2\n",
      "1\n",
      "2\n"
     ]
    }
   ],
   "source": [
    "# 遍历字典\n",
    "for k in {'a':1, 'b':2}:\n",
    "    print(k)\n",
    "\n",
    "for k,v in {'a':1, 'b':2}.items():\n",
    "    print(k,v)\n",
    "\n",
    "for v in {'a':1, 'b':2}.values():\n",
    "    print(v)"
   ]
  },
  {
   "cell_type": "code",
   "execution_count": 30,
   "metadata": {
    "pycharm": {
     "name": "#%%\n"
    }
   },
   "outputs": [
    {
     "name": "stdout",
     "output_type": "stream",
     "text": [
      "0 a\n",
      "1 b\n"
     ]
    }
   ],
   "source": [
    "# 带索引\n",
    "for i,v in enumerate(['a','b']):\n",
    "    print(i,v)"
   ]
  },
  {
   "cell_type": "code",
   "execution_count": 31,
   "metadata": {
    "pycharm": {
     "name": "#%%\n"
    }
   },
   "outputs": [
    {
     "name": "stdout",
     "output_type": "stream",
     "text": [
      "1\n",
      "3\n",
      "5\n",
      "7\n",
      "9\n"
     ]
    }
   ],
   "source": [
    "# while\n",
    "i = 0\n",
    "while True:\n",
    "    i = i + 1\n",
    "    if i >= 10:\n",
    "        break\n",
    "    if i%2 == 0:\n",
    "        continue\n",
    "    print(i)"
   ]
  },
  {
   "cell_type": "code",
   "execution_count": 32,
   "metadata": {
    "pycharm": {
     "name": "#%%\n"
    }
   },
   "outputs": [
    {
     "name": "stdout",
     "output_type": "stream",
     "text": [
      "0\n",
      "1\n",
      "2\n",
      "[0, 1, 2]\n",
      "[0, 1, 2]\n",
      "[0, 2, 4, 6, 8]\n",
      "[0, -1, 2, -3, 4, -5, 6, -7, 8, -9]\n",
      "[0, -1, 4, -9, 16, -25, 36, -49, 64, -81]\n",
      "['AC', 'AD', 'BC', 'BD']\n"
     ]
    }
   ],
   "source": [
    "# 列表生成式（语法糖，不懂也无所谓）\n",
    "# 1.range()\n",
    "for v in range(3):\n",
    "    print(v)\n",
    "print(list(range(3)))\n",
    "# 2.一般for表达式\n",
    "l = [x for x in range(3)]\n",
    "print(l)\n",
    "# 3.带筛选条件的for表达式\n",
    "l = [x for x in range(10) if x%2==0]\n",
    "print(l)\n",
    "# 4.带if else 判断的for表达式\n",
    "l = [x if x%2==0 else -x for x in range(10)]\n",
    "print(l)\n",
    "l = [x*x if x%2==0 else -x*x for x in range(10)]\n",
    "print(l)\n",
    "# 5.多个for语句\n",
    "l = [m+n for m in 'AB' for n in 'CD']\n",
    "print(l)"
   ]
  },
  {
   "cell_type": "code",
   "execution_count": 33,
   "metadata": {
    "pycharm": {
     "name": "#%%\n"
    }
   },
   "outputs": [
    {
     "name": "stdout",
     "output_type": "stream",
     "text": [
      "0\n",
      "1\n",
      "2\n",
      "step 1\n",
      "step 2\n",
      "setp 3\n",
      "END None\n",
      "step 1\n",
      "step 2\n",
      "setp 3\n"
     ]
    }
   ],
   "source": [
    "# 列表生成器（语法糖，不懂也无所谓）\n",
    "# 1.将[]换成()\n",
    "l = (x for x in range(3))\n",
    "for v in l:\n",
    "    print(v)\n",
    "\n",
    "# 2.自定义\n",
    "def f1():\n",
    "    print(\"step 1\")\n",
    "    yield \n",
    "    print(\"step 2\")\n",
    "    yield\n",
    "    print(\"setp 3\")\n",
    "\n",
    "o = f1()\n",
    "next(o)\n",
    "next(o)\n",
    "try:\n",
    "    next(o) # 3\n",
    "except StopIteration as e:\n",
    "    print(\"END\",e.value)\n",
    "\n",
    "for v in f1(): # for不会报结束错误\n",
    "    pass"
   ]
  },
  {
   "cell_type": "code",
   "execution_count": 34,
   "metadata": {
    "pycharm": {
     "name": "#%%\n"
    }
   },
   "outputs": [
    {
     "name": "stdout",
     "output_type": "stream",
     "text": [
      "                          1\n",
      "                         / \\\n",
      "                        1   1\n",
      "                       / \\ / \\\n",
      "                      1   2   1\n",
      "                     / \\ / \\ / \\\n",
      "                    1   3   3   1\n",
      "                   / \\ / \\ / \\ / \\\n",
      "                  1   4   6   4   1\n",
      "                 / \\ / \\ / \\ / \\ / \\\n",
      "                1   5   10  10  5   1\n",
      "               / \\ / \\ / \\ / \\ / \\ / \\\n",
      "              1   6   15  20  15  6   1\n",
      "             / \\ / \\ / \\ / \\ / \\ / \\ / \\\n",
      "            1   7   21  35  35  21  7   1\n",
      "           / \\ / \\ / \\ / \\ / \\ / \\ / \\ / \\\n",
      "          1   8   28  56  70  56  28  8   1\n",
      "         / \\ / \\ / \\ / \\ / \\ / \\ / \\ / \\ / \\\n",
      "        1   9   36  84  126 126 84  36  9   1\n",
      "       / \\ / \\ / \\ / \\ / \\ / \\ / \\ / \\ / \\ / \\\n",
      "      1   10  45  120 210 252 210 120 45  10  1\n",
      "     / \\ / \\ / \\ / \\ / \\ / \\ / \\ / \\ / \\ / \\ / \\\n",
      "    1   11  55  165 330 462 462 330 165 55  11  1\n",
      "   / \\ / \\ / \\ / \\ / \\ / \\ / \\ / \\ / \\ / \\ / \\ / \\\n",
      "  1   12  66  220 495 792 924 792 495 220 66  12  1\n"
     ]
    }
   ],
   "source": [
    "# 杨辉三角\n",
    "#           1\n",
    "#          / \\\n",
    "#         1   1\n",
    "#        / \\ / \\\n",
    "#       1   2   1\n",
    "#      / \\ / \\ / \\\n",
    "#     1   3   3   1\n",
    "#    / \\ / \\ / \\ / \\\n",
    "#   1   4   6   4   1\n",
    "#  / \\ / \\ / \\ / \\ / \\\n",
    "# 1   5   10  10  5   1\n",
    "\n",
    "# 并非通用方法，层数太多结构就不好看了\n",
    "def yang(n):\n",
    "    last = [] # 最后一行\n",
    "    curr = [1] # 当前行\n",
    "    i = 0 # 层数\n",
    "    j = 1\n",
    "    while i < n:\n",
    "        line = \"\"\n",
    "        p =  \"\" # 每行最前面的空格\n",
    "        for v in range(2*n-1-2*i):\n",
    "            p = p + \" \"\n",
    "\n",
    "        for v in curr:\n",
    "            line = line + str(v)\n",
    "        print(p + \" \" + line)\n",
    "\n",
    "        line = \"\"\n",
    "        if i + 1 < n :\n",
    "            line = line + p +  '/ \\\\' + ' / \\\\'*i\n",
    "            print(line)\n",
    "\n",
    "        i = i + 1\n",
    "        yield\n",
    "        last = curr\n",
    "        curr = [str(1).ljust(4)]\n",
    "        j = 1\n",
    "        for v in last[1:]:\n",
    "            curr.append(str(int(last[j-1])+int(last[j])).ljust(4))\n",
    "            j = j + 1\n",
    "        curr.append(1)\n",
    "\n",
    "for v in yang(13):\n",
    "    pass"
   ]
  },
  {
   "cell_type": "code",
   "execution_count": 35,
   "metadata": {
    "pycharm": {
     "name": "#%%\n"
    }
   },
   "outputs": [
    {
     "name": "stdout",
     "output_type": "stream",
     "text": [
      "True\n",
      "False\n"
     ]
    }
   ],
   "source": [
    "# 判断是否为迭代器\n",
    "# 1.导入迭代器类\n",
    "from collections.abc import Iterable\n",
    "# 2.类型判断\n",
    "a = []\n",
    "print(isinstance(a, Iterable)) # True\n",
    "a = 1\n",
    "print(isinstance(a, Iterable)) # False"
   ]
  },
  {
   "cell_type": "code",
   "execution_count": 36,
   "metadata": {
    "pycharm": {
     "name": "#%%\n"
    }
   },
   "outputs": [
    {
     "name": "stdout",
     "output_type": "stream",
     "text": [
      "False\n",
      "True\n"
     ]
    }
   ],
   "source": [
    "# 判断是否为生成器\n",
    "from collections.abc import Iterator\n",
    "a = []\n",
    "print(isinstance(a, Iterator)) # False\n",
    "print(isinstance(iter(a), Iterator)) # True"
   ]
  }
 ],
 "metadata": {
  "kernelspec": {
   "display_name": "Python 3.10.6 ('venv': venv)",
   "language": "python",
   "name": "python3"
  },
  "language_info": {
   "codemirror_mode": {
    "name": "ipython",
    "version": 3
   },
   "file_extension": ".py",
   "mimetype": "text/x-python",
   "name": "python",
   "nbconvert_exporter": "python",
   "pygments_lexer": "ipython3",
   "version": "3.10.6"
  },
  "orig_nbformat": 4,
  "vscode": {
   "interpreter": {
    "hash": "ce14df5d92cfec294d22f79ae27f3955c716086372bfb1465385beefeb06480e"
   }
  }
 },
 "nbformat": 4,
 "nbformat_minor": 2
}