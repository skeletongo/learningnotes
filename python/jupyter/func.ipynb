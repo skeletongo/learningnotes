{
 "cells": [
  {
   "cell_type": "markdown",
   "metadata": {},
   "source": [
    "## 函数/方法"
   ]
  },
  {
   "cell_type": "code",
   "execution_count": 59,
   "metadata": {},
   "outputs": [],
   "source": [
    "# 函数定义\n",
    "def my_f():\n",
    "    pass # 暂时不实现\n",
    "\n",
    "my_f() # 函数调用 "
   ]
  },
  {
   "cell_type": "code",
   "execution_count": 60,
   "metadata": {},
   "outputs": [
    {
     "name": "stdout",
     "output_type": "stream",
     "text": [
      "0\n",
      "1\n",
      "1.2\n",
      "1\n",
      "1.2\n"
     ]
    }
   ],
   "source": [
    "# 参数类型限定\n",
    "def my_abs(v):\n",
    "    if not isinstance(v,(int,float)): # 参数是int\n",
    "        raise TypeError(\"need int or float\")\n",
    "    elif v >= 0:\n",
    "        return v \n",
    "    else:\n",
    "        return -v\n",
    "\n",
    "print(my_abs(0))\n",
    "print(my_abs(1))\n",
    "print(my_abs(1.2))\n",
    "print(my_abs(-1))\n",
    "print(my_abs(-1.2))"
   ]
  },
  {
   "cell_type": "code",
   "execution_count": 61,
   "metadata": {},
   "outputs": [
    {
     "name": "stdout",
     "output_type": "stream",
     "text": [
      "True\n"
     ]
    }
   ],
   "source": [
    "# 返回空值\n",
    "def my_none(): # 返回空值 None\n",
    "    return\n",
    "print(my_none() == None) # True"
   ]
  },
  {
   "cell_type": "code",
   "execution_count": 62,
   "metadata": {},
   "outputs": [
    {
     "name": "stdout",
     "output_type": "stream",
     "text": [
      "(1, 2)\n"
     ]
    }
   ],
   "source": [
    "# 多值返回，其实是返回一个元组\n",
    "def my_tuple(): \n",
    "    return 1,2\n",
    "print(my_tuple())"
   ]
  },
  {
   "cell_type": "code",
   "execution_count": 63,
   "metadata": {},
   "outputs": [
    {
     "name": "stdout",
     "output_type": "stream",
     "text": [
      "('a', 'b', 'c')\n"
     ]
    }
   ],
   "source": [
    "# 多参数及参数默认值\n",
    "def my_param(a,b,c='c'): \n",
    "    return a,b,c\n",
    "print(my_param('a',b='b'))"
   ]
  },
  {
   "cell_type": "code",
   "execution_count": 64,
   "metadata": {},
   "outputs": [
    {
     "name": "stdout",
     "output_type": "stream",
     "text": [
      "['a']\n",
      "['a', 'a']\n",
      "[1, 'a']\n",
      "[1, 'a']\n"
     ]
    }
   ],
   "source": [
    "# 参数一般用不可变类型\n",
    "def my_list(l=[]):\n",
    "    l.append('a')\n",
    "    return l\n",
    "print(my_list())\n",
    "print(my_list())\n",
    "print(my_list([1]))\n",
    "print(my_list([1]))"
   ]
  },
  {
   "cell_type": "code",
   "execution_count": 65,
   "metadata": {},
   "outputs": [
    {
     "name": "stdout",
     "output_type": "stream",
     "text": [
      "a b ()\n",
      "a b ()\n",
      "a b ('c', 'd')\n",
      "a ('b', 'c') {'d': 1, 'e': 2}\n",
      "a 1 2\n",
      "a b {'m': 'm'}\n",
      "a b c {'m': 'm', 'n': 'n'}\n"
     ]
    }
   ],
   "source": [
    "# 必填参数:必须传递的参数\n",
    "# 可选参数:可以忽略不传使用默认值\n",
    "# 可变参数:参数数量不确定的参数\n",
    "# 关键字参数:以字典形式传入的参数\n",
    "# 命名关键字参数：以字典形式传入的参数，但是key必须是指定的值\n",
    "# 参数列表声明顺序 [必填参数，可选参数，可变参数，关键字参数，命名关键字参数]\n",
    "def f1(a, b='b', *c):\n",
    "    print(a, b, c)\n",
    "f1('a') # a b ()\n",
    "f1('a', 'b')  # a b ()\n",
    "f1('a', 'b', 'c', 'd') # a b ('c', 'd')\n",
    "\n",
    "def f2(a, *b, **c):\n",
    "    print(a, b, c)\n",
    "f2('a', 'b', 'c', d=1, e=2) # a ('b', 'c') {'d':1, 'e':2}\n",
    "\n",
    "def f3(a, *, b, c): # 命名关键字参数\n",
    "    print(a, b, c)\n",
    "f3('a', b=1, c=2) # a 1 2\n",
    "\n",
    "def f4(a, *, b, **c):\n",
    "    print(a, b, c)\n",
    "f4('a', b='b', m='m') # a 'b' {'m':'m'}\n",
    "\n",
    "def f5(a, b='b', *, c, **d):\n",
    "    print(a, b, c, d)\n",
    "f5('a', c='c', m='m', n='n') # a b c {'m':'m', 'n':'n'}"
   ]
  },
  {
   "cell_type": "code",
   "execution_count": 66,
   "metadata": {},
   "outputs": [
    {
     "name": "stdout",
     "output_type": "stream",
     "text": [
      "1! = 1\n",
      "2! = 2\n",
      "3! = 6\n",
      "4! = 24\n"
     ]
    }
   ],
   "source": [
    "# 递归调用,递归层太多会有栈溢出的可能\n",
    "\n",
    "# 计算阶乘\n",
    "def f6(a):\n",
    "    if a == 1:\n",
    "        return a\n",
    "    return a * f6(a-1)\n",
    "print('1! =', f6(1))\n",
    "print('2! =', f6(2))\n",
    "print('3! =', f6(3))\n",
    "print('4! =', f6(4))"
   ]
  },
  {
   "cell_type": "code",
   "execution_count": 67,
   "metadata": {},
   "outputs": [
    {
     "name": "stdout",
     "output_type": "stream",
     "text": [
      "[1, 4, 9]\n"
     ]
    }
   ],
   "source": [
    "# map(),对每个元素进行处理\n",
    "a = [1,2,3]\n",
    "def f7(x):\n",
    "    return x*x\n",
    "print(list(map(f7,a))) # [1, 4, 9]"
   ]
  },
  {
   "cell_type": "code",
   "execution_count": 68,
   "metadata": {},
   "outputs": [
    {
     "name": "stdout",
     "output_type": "stream",
     "text": [
      "6\n"
     ]
    }
   ],
   "source": [
    "# reduce(),递归对两个元素处理\n",
    "from functools import reduce\n",
    "a = [1,2,3]\n",
    "def f8(x,y):\n",
    "    return x*y\n",
    "print(reduce(f8,a)) # 6\n",
    "# 等价于 f8(f8(1,2),3)"
   ]
  },
  {
   "cell_type": "code",
   "execution_count": 69,
   "metadata": {},
   "outputs": [
    {
     "name": "stdout",
     "output_type": "stream",
     "text": [
      "[1, 3]\n"
     ]
    }
   ],
   "source": [
    "# filter,对元素过滤\n",
    "a = [1,2,3]\n",
    "def f9(x):\n",
    "    return x%2 == 1 # 保留奇数\n",
    "print(list(filter(f9,a)))"
   ]
  },
  {
   "cell_type": "code",
   "execution_count": 70,
   "metadata": {},
   "outputs": [
    {
     "name": "stdout",
     "output_type": "stream",
     "text": [
      "[-35, -12, 1, 2, 21, 50]\n",
      "[1, 2, -12, 21, -35, 50]\n",
      "[50, 21, 2, 1, -12, -35]\n"
     ]
    }
   ],
   "source": [
    "# sorted(), 排序方法\n",
    "# 1.普通排序\n",
    "a = [21,2,1,-12,-35,50]\n",
    "print(sorted(a))\n",
    "# 2.先处理每个元素再排序\n",
    "print(sorted(a,key=abs))\n",
    "# 3.降序排序\n",
    "print(sorted(a,reverse=True))"
   ]
  },
  {
   "cell_type": "code",
   "execution_count": 71,
   "metadata": {},
   "outputs": [
    {
     "name": "stdout",
     "output_type": "stream",
     "text": [
      "[{'a': -12}, {'a': 2}, {'a': 5}, {'a': 30}]\n"
     ]
    }
   ],
   "source": [
    "# 自定义排序\n",
    "from functools import cmp_to_key\n",
    "a = [{'a':5},{'a':2},{'a':-12},{'a':30}]\n",
    "def f10(x,y):\n",
    "    if x['a'] > y['a']:\n",
    "        return 1\n",
    "    elif x['a'] < y['a']:\n",
    "        return -1\n",
    "    else:\n",
    "        return 0\n",
    "a.sort(key=cmp_to_key(f10))\n",
    "print(a)"
   ]
  },
  {
   "cell_type": "code",
   "execution_count": 72,
   "metadata": {},
   "outputs": [
    {
     "name": "stdout",
     "output_type": "stream",
     "text": [
      "1\n",
      "2\n"
     ]
    }
   ],
   "source": [
    "# 闭包，nonlocal\n",
    "def f11():\n",
    "    x = 0\n",
    "    def f1():\n",
    "        nonlocal x # 没有声明会报错\n",
    "        x = x + 1\n",
    "        return x\n",
    "    return f1\n",
    "f = f11()\n",
    "print(f())\n",
    "print(f())"
   ]
  },
  {
   "cell_type": "code",
   "execution_count": 73,
   "metadata": {},
   "outputs": [
    {
     "name": "stdout",
     "output_type": "stream",
     "text": [
      "[1, 4, 9]\n"
     ]
    }
   ],
   "source": [
    "# lambda,匿名函数\n",
    "f12 = lambda x: x*x \n",
    "# 等价于\n",
    "#def f12(x):\n",
    "#    return x*x\n",
    "a = [1,2,3]\n",
    "print(list(map(lambda x:x*x,a))) # [1, 4, 9]"
   ]
  },
  {
   "cell_type": "code",
   "execution_count": 74,
   "metadata": {},
   "outputs": [
    {
     "name": "stdout",
     "output_type": "stream",
     "text": [
      "6\n",
      "10\n",
      "15\n"
     ]
    }
   ],
   "source": [
    "# partial,偏函数,懂不懂也无所谓,一个语法糖而已\n",
    "def f13(a,b):\n",
    "    return a + b\n",
    "\n",
    "import functools\n",
    "f14 = functools.partial(f13,5)\n",
    "print(f14(1)) # 6\n",
    "print(f14(5)) # 10\n",
    "\n",
    "def f15(a, b=2):\n",
    "    return a*b\n",
    "f16 = functools.partial(f15,b=3)\n",
    "print(f16(5)) # 15\n",
    "#print(f16(5,4)) # 错误用法"
   ]
  }
 ],
 "metadata": {
  "kernelspec": {
   "display_name": "Python 3.10.6 64-bit",
   "language": "python",
   "name": "python3"
  },
  "language_info": {
   "codemirror_mode": {
    "name": "ipython",
    "version": 3
   },
   "file_extension": ".py",
   "mimetype": "text/x-python",
   "name": "python",
   "nbconvert_exporter": "python",
   "pygments_lexer": "ipython3",
   "version": "3.10.6"
  },
  "orig_nbformat": 4,
  "vscode": {
   "interpreter": {
    "hash": "d99a3f7b344b3c3107482760db15f42178bfad658d282ab0a919b76809e13cb5"
   }
  }
 },
 "nbformat": 4,
 "nbformat_minor": 2
}
