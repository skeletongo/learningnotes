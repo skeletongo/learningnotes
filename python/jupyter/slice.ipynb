{
 "cells": [
  {
   "cell_type": "markdown",
   "metadata": {},
   "source": [
    "## 切片"
   ]
  },
  {
   "cell_type": "code",
   "execution_count": 1,
   "metadata": {},
   "outputs": [
    {
     "name": "stdout",
     "output_type": "stream",
     "text": [
      "b\n",
      "[2]\n",
      "(2,)\n",
      "[1, 2, 3]\n",
      "[2, 4]\n"
     ]
    }
   ],
   "source": [
    "a = 'abc'\n",
    "print(a[1:2])\n",
    "\n",
    "a = [1,2,3]\n",
    "print(a[1:2])\n",
    "\n",
    "a = (1,2,3)\n",
    "print(a[1:2])\n",
    "\n",
    "a = [1,2,3]\n",
    "b = a[1:2]\n",
    "b.append(4)\n",
    "print(a)\n",
    "print(b)"
   ]
  },
  {
   "cell_type": "code",
   "execution_count": 2,
   "metadata": {},
   "outputs": [
    {
     "name": "stdout",
     "output_type": "stream",
     "text": [
      "[0, 1, 2]\n",
      "(0, 1, 2)\n",
      "[0, 5, 10, 15, 20, 25, 30, 35, 40, 45, 50, 55]\n"
     ]
    }
   ],
   "source": [
    "# 每隔几个元素保留一个元素\n",
    "print(list(range(3)))\n",
    "print(tuple(range(3)))\n",
    "a = list(range(60))\n",
    "print(a[::5]) # 每五个元素取一个"
   ]
  },
  {
   "cell_type": "code",
   "execution_count": 3,
   "metadata": {},
   "outputs": [
    {
     "name": "stdout",
     "output_type": "stream",
     "text": [
      "1\n",
      "4\n"
     ]
    }
   ],
   "source": [
    "# 多维切片\n",
    "arr = [[[1,2],[3,4]],[[5,6],[7,8]]]\n",
    "arr\n",
    "\n",
    "# 取第元素\n",
    "print(arr[0][0][0])\n",
    "print(arr[0][1][1])"
   ]
  }
 ],
 "metadata": {
  "kernelspec": {
   "display_name": "Python 3.10.6 ('venv': venv)",
   "language": "python",
   "name": "python3"
  },
  "language_info": {
   "codemirror_mode": {
    "name": "ipython",
    "version": 3
   },
   "file_extension": ".py",
   "mimetype": "text/x-python",
   "name": "python",
   "nbconvert_exporter": "python",
   "pygments_lexer": "ipython3",
   "version": "3.10.6"
  },
  "orig_nbformat": 4,
  "vscode": {
   "interpreter": {
    "hash": "ce14df5d92cfec294d22f79ae27f3955c716086372bfb1465385beefeb06480e"
   }
  }
 },
 "nbformat": 4,
 "nbformat_minor": 2
}
