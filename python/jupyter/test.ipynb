{
 "cells": [
  {
   "cell_type": "markdown",
   "metadata": {},
   "source": [
    "## 单元测试"
   ]
  },
  {
   "cell_type": "code",
   "execution_count": null,
   "metadata": {},
   "outputs": [],
   "source": [
    "import unittest\n",
    "\n",
    "def abs(a):\n",
    "    if not isinstance(a,(int,float)):\n",
    "        raise TypeError(\"must be int or float!\")\n",
    "    if a >= 0:\n",
    "        return a \n",
    "    return -a\n",
    "\n",
    "class TestAbs(unittest.TestCase):\n",
    "\n",
    "    def setUp(self):\n",
    "        print('setUp...')\n",
    "\n",
    "    def tearDown(self):\n",
    "        print('tearDown...')\n",
    "\n",
    "    def test_n(self):\n",
    "        self.assertTrue(abs(0) == 0)\n",
    "        self.assertEqual(abs(1),1)\n",
    "        self.assertEqual(abs(-1), 1)\n",
    "        self.assertEqual(abs(1.2),1.2)\n",
    "        self.assertEqual(abs(-1.2),1.2)\n",
    "\n",
    "    def test_typerror(self):\n",
    "        with self.assertRaises(TypeError):\n",
    "            abs(\"a\")\n",
    "\n",
    "if __name__ == '__main__':\n",
    "    unittest.main()"
   ]
  },
  {
   "cell_type": "markdown",
   "metadata": {},
   "source": [
    "## 文档测试"
   ]
  },
  {
   "cell_type": "code",
   "execution_count": 12,
   "metadata": {},
   "outputs": [],
   "source": [
    "def abs(a):\n",
    "    '''\n",
    "    Function to get absolute value of number.\n",
    "    \n",
    "    Example:\n",
    "    \n",
    "    >>> abs(1)\n",
    "    1\n",
    "    >>> abs(-1)\n",
    "    1\n",
    "    >>> abs(0)\n",
    "    0\n",
    "    >>> abs(\"a\")\n",
    "    Traceback (most recent call last):\n",
    "        ...\n",
    "    TypeError: must be int or float!\n",
    "    '''\n",
    "    \n",
    "    if not isinstance(a,(int,float)):\n",
    "        raise TypeError(\"must be int or float!\")\n",
    "    if a >= 0:\n",
    "        return a \n",
    "    return -a\n",
    "\n",
    "if __name__=='__main__':\n",
    "    import doctest\n",
    "    doctest.testmod()"
   ]
  }
 ],
 "metadata": {
  "kernelspec": {
   "display_name": "Python 3.10.6 64-bit",
   "language": "python",
   "name": "python3"
  },
  "language_info": {
   "name": "python",
   "version": "3.10.6"
  },
  "orig_nbformat": 4,
  "vscode": {
   "interpreter": {
    "hash": "d99a3f7b344b3c3107482760db15f42178bfad658d282ab0a919b76809e13cb5"
   }
  }
 },
 "nbformat": 4,
 "nbformat_minor": 2
}
